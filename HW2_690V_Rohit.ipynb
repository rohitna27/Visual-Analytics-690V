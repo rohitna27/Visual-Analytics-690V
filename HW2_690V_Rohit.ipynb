{
 "cells": [
  {
   "cell_type": "code",
   "execution_count": 74,
   "metadata": {
    "collapsed": true
   },
   "outputs": [],
   "source": [
    "from bokeh.io import output_notebook, show\n",
    "from bokeh.plotting import figure"
   ]
  },
  {
   "cell_type": "code",
   "execution_count": 75,
   "metadata": {},
   "outputs": [
    {
     "data": {
      "text/html": [
       "\n",
       "    <div class=\"bk-root\">\n",
       "        <a href=\"https://bokeh.pydata.org\" target=\"_blank\" class=\"bk-logo bk-logo-small bk-logo-notebook\"></a>\n",
       "        <span id=\"01ab7432-5900-456c-8013-8c5b71a96ee7\">Loading BokehJS ...</span>\n",
       "    </div>"
      ]
     },
     "metadata": {},
     "output_type": "display_data"
    },
    {
     "data": {
      "application/javascript": [
       "\n",
       "(function(root) {\n",
       "  function now() {\n",
       "    return new Date();\n",
       "  }\n",
       "\n",
       "  var force = true;\n",
       "\n",
       "  if (typeof (root._bokeh_onload_callbacks) === \"undefined\" || force === true) {\n",
       "    root._bokeh_onload_callbacks = [];\n",
       "    root._bokeh_is_loading = undefined;\n",
       "  }\n",
       "\n",
       "\n",
       "  \n",
       "  if (typeof (root._bokeh_timeout) === \"undefined\" || force === true) {\n",
       "    root._bokeh_timeout = Date.now() + 5000;\n",
       "    root._bokeh_failed_load = false;\n",
       "  }\n",
       "\n",
       "  var NB_LOAD_WARNING = {'data': {'text/html':\n",
       "     \"<div style='background-color: #fdd'>\\n\"+\n",
       "     \"<p>\\n\"+\n",
       "     \"BokehJS does not appear to have successfully loaded. If loading BokehJS from CDN, this \\n\"+\n",
       "     \"may be due to a slow or bad network connection. Possible fixes:\\n\"+\n",
       "     \"</p>\\n\"+\n",
       "     \"<ul>\\n\"+\n",
       "     \"<li>re-rerun `output_notebook()` to attempt to load from CDN again, or</li>\\n\"+\n",
       "     \"<li>use INLINE resources instead, as so:</li>\\n\"+\n",
       "     \"</ul>\\n\"+\n",
       "     \"<code>\\n\"+\n",
       "     \"from bokeh.resources import INLINE\\n\"+\n",
       "     \"output_notebook(resources=INLINE)\\n\"+\n",
       "     \"</code>\\n\"+\n",
       "     \"</div>\"}};\n",
       "\n",
       "  function display_loaded() {\n",
       "    if (root.Bokeh !== undefined) {\n",
       "      var el = document.getElementById(\"01ab7432-5900-456c-8013-8c5b71a96ee7\");\n",
       "      if (el != null) {\n",
       "        el.textContent = \"BokehJS \" + Bokeh.version + \" successfully loaded.\";\n",
       "      }\n",
       "    } else if (Date.now() < root._bokeh_timeout) {\n",
       "      setTimeout(display_loaded, 100)\n",
       "    }\n",
       "  }\n",
       "\n",
       "\n",
       "  function run_callbacks() {\n",
       "    try {\n",
       "      root._bokeh_onload_callbacks.forEach(function(callback) { callback() });\n",
       "    }\n",
       "    finally {\n",
       "      delete root._bokeh_onload_callbacks\n",
       "    }\n",
       "    console.info(\"Bokeh: all callbacks have finished\");\n",
       "  }\n",
       "\n",
       "  function load_libs(js_urls, callback) {\n",
       "    root._bokeh_onload_callbacks.push(callback);\n",
       "    if (root._bokeh_is_loading > 0) {\n",
       "      console.log(\"Bokeh: BokehJS is being loaded, scheduling callback at\", now());\n",
       "      return null;\n",
       "    }\n",
       "    if (js_urls == null || js_urls.length === 0) {\n",
       "      run_callbacks();\n",
       "      return null;\n",
       "    }\n",
       "    console.log(\"Bokeh: BokehJS not loaded, scheduling load and callback at\", now());\n",
       "    root._bokeh_is_loading = js_urls.length;\n",
       "    for (var i = 0; i < js_urls.length; i++) {\n",
       "      var url = js_urls[i];\n",
       "      var s = document.createElement('script');\n",
       "      s.src = url;\n",
       "      s.async = false;\n",
       "      s.onreadystatechange = s.onload = function() {\n",
       "        root._bokeh_is_loading--;\n",
       "        if (root._bokeh_is_loading === 0) {\n",
       "          console.log(\"Bokeh: all BokehJS libraries loaded\");\n",
       "          run_callbacks()\n",
       "        }\n",
       "      };\n",
       "      s.onerror = function() {\n",
       "        console.warn(\"failed to load library \" + url);\n",
       "      };\n",
       "      console.log(\"Bokeh: injecting script tag for BokehJS library: \", url);\n",
       "      document.getElementsByTagName(\"head\")[0].appendChild(s);\n",
       "    }\n",
       "  };var element = document.getElementById(\"01ab7432-5900-456c-8013-8c5b71a96ee7\");\n",
       "  if (element == null) {\n",
       "    console.log(\"Bokeh: ERROR: autoload.js configured with elementid '01ab7432-5900-456c-8013-8c5b71a96ee7' but no matching script tag was found. \")\n",
       "    return false;\n",
       "  }\n",
       "\n",
       "  var js_urls = [\"https://cdn.pydata.org/bokeh/release/bokeh-0.12.7.min.js\", \"https://cdn.pydata.org/bokeh/release/bokeh-widgets-0.12.7.min.js\", \"https://cdn.pydata.org/bokeh/release/bokeh-tables-0.12.7.min.js\", \"https://cdn.pydata.org/bokeh/release/bokeh-gl-0.12.7.min.js\"];\n",
       "\n",
       "  var inline_js = [\n",
       "    function(Bokeh) {\n",
       "      Bokeh.set_log_level(\"info\");\n",
       "    },\n",
       "    \n",
       "    function(Bokeh) {\n",
       "      \n",
       "    },\n",
       "    \n",
       "    function(Bokeh) {\n",
       "      \n",
       "      document.getElementById(\"01ab7432-5900-456c-8013-8c5b71a96ee7\").textContent = \"BokehJS is loading...\";\n",
       "    },\n",
       "    function(Bokeh) {\n",
       "      console.log(\"Bokeh: injecting CSS: https://cdn.pydata.org/bokeh/release/bokeh-0.12.7.min.css\");\n",
       "      Bokeh.embed.inject_css(\"https://cdn.pydata.org/bokeh/release/bokeh-0.12.7.min.css\");\n",
       "      console.log(\"Bokeh: injecting CSS: https://cdn.pydata.org/bokeh/release/bokeh-widgets-0.12.7.min.css\");\n",
       "      Bokeh.embed.inject_css(\"https://cdn.pydata.org/bokeh/release/bokeh-widgets-0.12.7.min.css\");\n",
       "      console.log(\"Bokeh: injecting CSS: https://cdn.pydata.org/bokeh/release/bokeh-tables-0.12.7.min.css\");\n",
       "      Bokeh.embed.inject_css(\"https://cdn.pydata.org/bokeh/release/bokeh-tables-0.12.7.min.css\");\n",
       "    }\n",
       "  ];\n",
       "\n",
       "  function run_inline_js() {\n",
       "    \n",
       "    if ((root.Bokeh !== undefined) || (force === true)) {\n",
       "      for (var i = 0; i < inline_js.length; i++) {\n",
       "        inline_js[i].call(root, root.Bokeh);\n",
       "      }if (force === true) {\n",
       "        display_loaded();\n",
       "      }} else if (Date.now() < root._bokeh_timeout) {\n",
       "      setTimeout(run_inline_js, 100);\n",
       "    } else if (!root._bokeh_failed_load) {\n",
       "      console.log(\"Bokeh: BokehJS failed to load within specified timeout.\");\n",
       "      root._bokeh_failed_load = true;\n",
       "    } else if (force !== true) {\n",
       "      var cell = $(document.getElementById(\"01ab7432-5900-456c-8013-8c5b71a96ee7\")).parents('.cell').data().cell;\n",
       "      cell.output_area.append_execute_result(NB_LOAD_WARNING)\n",
       "    }\n",
       "\n",
       "  }\n",
       "\n",
       "  if (root._bokeh_is_loading === 0) {\n",
       "    console.log(\"Bokeh: BokehJS loaded, going straight to plotting\");\n",
       "    run_inline_js();\n",
       "  } else {\n",
       "    load_libs(js_urls, function() {\n",
       "      console.log(\"Bokeh: BokehJS plotting callback run at\", now());\n",
       "      run_inline_js();\n",
       "    });\n",
       "  }\n",
       "}(window));"
      ]
     },
     "metadata": {},
     "output_type": "display_data"
    }
   ],
   "source": [
    "output_notebook()"
   ]
  },
  {
   "cell_type": "code",
   "execution_count": 76,
   "metadata": {},
   "outputs": [
    {
     "name": "stdout",
     "output_type": "stream",
     "text": [
      "          Channel      Region          Fresh          Milk       Grocery  \\\n",
      "count  434.000000  434.000000     434.000000    434.000000    434.000000   \n",
      "mean     1.324885    2.541475   11965.827189   5826.762673   8000.421659   \n",
      "std      0.468872    0.774527   12636.061205   7423.721452   9553.341671   \n",
      "min      1.000000    1.000000       3.000000     55.000000    137.000000   \n",
      "25%      1.000000    2.000000    3141.250000   1531.000000   2155.500000   \n",
      "50%      1.000000    3.000000    8413.500000   3627.000000   4755.500000   \n",
      "75%      2.000000    3.000000   16905.500000   7234.500000  10699.250000   \n",
      "max      2.000000    3.000000  112151.000000  73498.000000  92780.000000   \n",
      "\n",
      "             Frozen  Detergents_Paper    Delicassen  \n",
      "count    434.000000        434.000000    434.000000  \n",
      "mean    3096.175115       2906.887097   1526.020737  \n",
      "std     4880.906396       4794.665933   2838.043624  \n",
      "min       25.000000          3.000000      3.000000  \n",
      "25%      768.750000        256.250000    405.250000  \n",
      "50%     1567.000000        820.500000    962.500000  \n",
      "75%     3564.750000       3992.500000   1811.250000  \n",
      "max    60869.000000      40827.000000  47943.000000  \n"
     ]
    }
   ],
   "source": [
    "#Reading dataset with missing values and displaying key statistics\n",
    "from pandas import read_csv\n",
    "dataset1 = read_csv('Wholesale customers data-missing.csv')\n",
    "print(dataset.describe())"
   ]
  },
  {
   "cell_type": "code",
   "execution_count": 78,
   "metadata": {},
   "outputs": [
    {
     "name": "stdout",
     "output_type": "stream",
     "text": [
      "Channel             0\n",
      "Region              0\n",
      "Fresh               0\n",
      "Milk                1\n",
      "Grocery             2\n",
      "Frozen              0\n",
      "Detergents_Paper    2\n",
      "Delicassen          1\n",
      "dtype: int64\n"
     ]
    },
    {
     "data": {
      "text/plain": [
       "Channel                 1.0\n",
       "Region                  3.0\n",
       "Fresh               20398.0\n",
       "Milk                 1137.0\n",
       "Grocery                 NaN\n",
       "Frozen               4407.0\n",
       "Detergents_Paper        3.0\n",
       "Delicassen            975.0\n",
       "Name: 75, dtype: float64"
      ]
     },
     "execution_count": 78,
     "metadata": {},
     "output_type": "execute_result"
    }
   ],
   "source": [
    "print((dataset1.isnull()).sum())\n",
    "#Checking the value of one of the blank cells (Grocery attribute is missing in this case)\n",
    "dataset1.loc[75]"
   ]
  },
  {
   "cell_type": "code",
   "execution_count": 79,
   "metadata": {},
   "outputs": [
    {
     "name": "stdout",
     "output_type": "stream",
     "text": [
      "          Channel      Region          Fresh          Milk       Grocery  \\\n",
      "count  440.000000  440.000000     440.000000    440.000000    440.000000   \n",
      "mean     1.322727    2.543182   12000.297727   5796.265909   7951.277273   \n",
      "std      0.468052    0.774272   12647.328865   7380.377175   9503.162829   \n",
      "min      1.000000    1.000000       3.000000     55.000000      3.000000   \n",
      "25%      1.000000    2.000000    3127.750000   1533.000000   2153.000000   \n",
      "50%      1.000000    3.000000    8504.000000   3627.000000   4755.500000   \n",
      "75%      2.000000    3.000000   16933.750000   7190.250000  10655.750000   \n",
      "max      2.000000    3.000000  112151.000000  73498.000000  92780.000000   \n",
      "\n",
      "             Frozen  Detergents_Paper    Delicassen  \n",
      "count    440.000000        440.000000    440.000000  \n",
      "mean    3071.931818       2881.493182   1524.870455  \n",
      "std     4854.673333       4767.854448   2820.105937  \n",
      "min       25.000000          3.000000      3.000000  \n",
      "25%      742.250000        256.750000    408.250000  \n",
      "50%     1526.000000        816.500000    965.500000  \n",
      "75%     3554.250000       3922.000000   1820.250000  \n",
      "max    60869.000000      40827.000000  47943.000000  \n",
      "Channel             0\n",
      "Region              0\n",
      "Fresh               0\n",
      "Milk                0\n",
      "Grocery             0\n",
      "Frozen              0\n",
      "Detergents_Paper    0\n",
      "Delicassen          0\n",
      "dtype: int64\n"
     ]
    }
   ],
   "source": [
    "#We can deduce that six values are missing and identify the corresponding  attributes\n",
    "#Now, reading the actual dataset, we can clearly see the difference\n",
    "dataset2 = read_csv('Wholesale customers data.csv')\n",
    "print(dataset2.describe())\n",
    "print((dataset2.isnull()).sum())"
   ]
  },
  {
   "cell_type": "code",
   "execution_count": 80,
   "metadata": {},
   "outputs": [
    {
     "data": {
      "text/html": [
       "\n",
       "\n",
       "    <div class=\"bk-root\">\n",
       "        <div class=\"bk-plotdiv\" id=\"ca89f479-5f2c-441f-a198-a85cc099f6af\"></div>\n",
       "    </div>\n",
       "<script type=\"text/javascript\">\n",
       "  \n",
       "  (function(root) {\n",
       "    function now() {\n",
       "      return new Date();\n",
       "    }\n",
       "  \n",
       "    var force = false;\n",
       "  \n",
       "    if (typeof (root._bokeh_onload_callbacks) === \"undefined\" || force === true) {\n",
       "      root._bokeh_onload_callbacks = [];\n",
       "      root._bokeh_is_loading = undefined;\n",
       "    }\n",
       "  \n",
       "  \n",
       "    \n",
       "    if (typeof (root._bokeh_timeout) === \"undefined\" || force === true) {\n",
       "      root._bokeh_timeout = Date.now() + 0;\n",
       "      root._bokeh_failed_load = false;\n",
       "    }\n",
       "  \n",
       "    var NB_LOAD_WARNING = {'data': {'text/html':\n",
       "       \"<div style='background-color: #fdd'>\\n\"+\n",
       "       \"<p>\\n\"+\n",
       "       \"BokehJS does not appear to have successfully loaded. If loading BokehJS from CDN, this \\n\"+\n",
       "       \"may be due to a slow or bad network connection. Possible fixes:\\n\"+\n",
       "       \"</p>\\n\"+\n",
       "       \"<ul>\\n\"+\n",
       "       \"<li>re-rerun `output_notebook()` to attempt to load from CDN again, or</li>\\n\"+\n",
       "       \"<li>use INLINE resources instead, as so:</li>\\n\"+\n",
       "       \"</ul>\\n\"+\n",
       "       \"<code>\\n\"+\n",
       "       \"from bokeh.resources import INLINE\\n\"+\n",
       "       \"output_notebook(resources=INLINE)\\n\"+\n",
       "       \"</code>\\n\"+\n",
       "       \"</div>\"}};\n",
       "  \n",
       "    function display_loaded() {\n",
       "      if (root.Bokeh !== undefined) {\n",
       "        var el = document.getElementById(\"ca89f479-5f2c-441f-a198-a85cc099f6af\");\n",
       "        if (el != null) {\n",
       "          el.textContent = \"BokehJS \" + Bokeh.version + \" successfully loaded.\";\n",
       "        }\n",
       "      } else if (Date.now() < root._bokeh_timeout) {\n",
       "        setTimeout(display_loaded, 100)\n",
       "      }\n",
       "    }\n",
       "  \n",
       "  \n",
       "    function run_callbacks() {\n",
       "      try {\n",
       "        root._bokeh_onload_callbacks.forEach(function(callback) { callback() });\n",
       "      }\n",
       "      finally {\n",
       "        delete root._bokeh_onload_callbacks\n",
       "      }\n",
       "      console.info(\"Bokeh: all callbacks have finished\");\n",
       "    }\n",
       "  \n",
       "    function load_libs(js_urls, callback) {\n",
       "      root._bokeh_onload_callbacks.push(callback);\n",
       "      if (root._bokeh_is_loading > 0) {\n",
       "        console.log(\"Bokeh: BokehJS is being loaded, scheduling callback at\", now());\n",
       "        return null;\n",
       "      }\n",
       "      if (js_urls == null || js_urls.length === 0) {\n",
       "        run_callbacks();\n",
       "        return null;\n",
       "      }\n",
       "      console.log(\"Bokeh: BokehJS not loaded, scheduling load and callback at\", now());\n",
       "      root._bokeh_is_loading = js_urls.length;\n",
       "      for (var i = 0; i < js_urls.length; i++) {\n",
       "        var url = js_urls[i];\n",
       "        var s = document.createElement('script');\n",
       "        s.src = url;\n",
       "        s.async = false;\n",
       "        s.onreadystatechange = s.onload = function() {\n",
       "          root._bokeh_is_loading--;\n",
       "          if (root._bokeh_is_loading === 0) {\n",
       "            console.log(\"Bokeh: all BokehJS libraries loaded\");\n",
       "            run_callbacks()\n",
       "          }\n",
       "        };\n",
       "        s.onerror = function() {\n",
       "          console.warn(\"failed to load library \" + url);\n",
       "        };\n",
       "        console.log(\"Bokeh: injecting script tag for BokehJS library: \", url);\n",
       "        document.getElementsByTagName(\"head\")[0].appendChild(s);\n",
       "      }\n",
       "    };var element = document.getElementById(\"ca89f479-5f2c-441f-a198-a85cc099f6af\");\n",
       "    if (element == null) {\n",
       "      console.log(\"Bokeh: ERROR: autoload.js configured with elementid 'ca89f479-5f2c-441f-a198-a85cc099f6af' but no matching script tag was found. \")\n",
       "      return false;\n",
       "    }\n",
       "  \n",
       "    var js_urls = [];\n",
       "  \n",
       "    var inline_js = [\n",
       "      function(Bokeh) {\n",
       "        (function() {\n",
       "          var fn = function() {\n",
       "            var docs_json = {\"1cfcf924-cb27-495f-bb56-3c24dcc55760\":{\"roots\":{\"references\":[{\"attributes\":{},\"id\":\"b8bb2c2f-795f-4dcf-9a0d-6ac81f4c60d7\",\"type\":\"LinearScale\"},{\"attributes\":{\"children\":[{\"id\":\"9996bcea-aa9a-42e5-aabb-77c678fc605d\",\"subtype\":\"Figure\",\"type\":\"Plot\"},{\"id\":\"01d12c3a-10e2-4458-849d-76a1fec5391c\",\"subtype\":\"Figure\",\"type\":\"Plot\"}]},\"id\":\"6b5fb875-c0ab-4b60-81d6-9f6f09ef83a1\",\"type\":\"Row\"},{\"attributes\":{\"fill_color\":{\"value\":\"navy\"},\"line_color\":{\"value\":\"navy\"},\"size\":{\"units\":\"screen\",\"value\":10},\"x\":{\"field\":\"x\"},\"y\":{\"field\":\"y\"}},\"id\":\"4a60057a-f034-43d8-894a-1f1f4ce4b69c\",\"type\":\"Circle\"},{\"attributes\":{},\"id\":\"79954470-5a8f-4572-8eda-533951e5ecf4\",\"type\":\"PanTool\"},{\"attributes\":{\"callback\":null,\"column_names\":[\"x\",\"y\"],\"data\":{\"x\":{\"__ndarray__\":\"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\",\"dtype\":\"float64\",\"shape\":[440]},\"y\":{\"__ndarray__\":\"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\",\"dtype\":\"float64\",\"shape\":[440]}}},\"id\":\"11a5fe65-6dee-4370-8195-a3cd5851fc62\",\"type\":\"ColumnDataSource\"},{\"attributes\":{\"plot\":null,\"text\":\"Visualizing dataset with missing values\"},\"id\":\"2ec091b7-bbd4-4e20-9e2b-d8c9bf2c45d0\",\"type\":\"Title\"},{\"attributes\":{\"callback\":null},\"id\":\"021ea31f-7d9c-4d2c-a363-a5183c64fc83\",\"type\":\"HoverTool\"},{\"attributes\":{\"fill_color\":{\"value\":\"red\"},\"line_color\":{\"value\":\"red\"},\"size\":{\"units\":\"screen\",\"value\":10},\"x\":{\"field\":\"x\"},\"y\":{\"field\":\"y\"}},\"id\":\"25989f0b-746f-4cb9-ba8e-b07caa9ffe45\",\"type\":\"Circle\"},{\"attributes\":{\"callback\":null},\"id\":\"2e85eb51-3874-42ce-ab91-f89ec2a24429\",\"type\":\"HoverTool\"},{\"attributes\":{\"bottom_units\":\"screen\",\"fill_alpha\":{\"value\":0.5},\"fill_color\":{\"value\":\"lightgrey\"},\"left_units\":\"screen\",\"level\":\"overlay\",\"line_alpha\":{\"value\":1.0},\"line_color\":{\"value\":\"black\"},\"line_dash\":[4,4],\"line_width\":{\"value\":2},\"plot\":null,\"render_mode\":\"css\",\"right_units\":\"screen\",\"top_units\":\"screen\"},\"id\":\"c5bd3084-4095-4d11-a6bc-bffd715d1362\",\"type\":\"BoxAnnotation\"},{\"attributes\":{\"below\":[{\"id\":\"99cd97ba-2026-4e28-a050-8d3835fdc9d8\",\"type\":\"LinearAxis\"}],\"left\":[{\"id\":\"6b381567-a8aa-4252-98f1-5304d2544bc6\",\"type\":\"LinearAxis\"}],\"plot_height\":400,\"plot_width\":400,\"renderers\":[{\"id\":\"99cd97ba-2026-4e28-a050-8d3835fdc9d8\",\"type\":\"LinearAxis\"},{\"id\":\"afb75026-2e9b-4e90-a1ed-acd5ff2c321a\",\"type\":\"Grid\"},{\"id\":\"6b381567-a8aa-4252-98f1-5304d2544bc6\",\"type\":\"LinearAxis\"},{\"id\":\"43a9b04a-0e4d-43fa-bdd5-ca4c58a4b6c8\",\"type\":\"Grid\"},{\"id\":\"c5bd3084-4095-4d11-a6bc-bffd715d1362\",\"type\":\"BoxAnnotation\"},{\"id\":\"10fdb747-7e48-4a41-a62b-60ae7bd97069\",\"type\":\"GlyphRenderer\"}],\"title\":{\"id\":\"2ec091b7-bbd4-4e20-9e2b-d8c9bf2c45d0\",\"type\":\"Title\"},\"toolbar\":{\"id\":\"862c5ea5-5008-42ad-b10f-3cb84429ee36\",\"type\":\"Toolbar\"},\"toolbar_location\":null,\"x_range\":{\"id\":\"3238b79a-5049-4bfb-b60d-1cc0663843e8\",\"type\":\"DataRange1d\"},\"x_scale\":{\"id\":\"b8bb2c2f-795f-4dcf-9a0d-6ac81f4c60d7\",\"type\":\"LinearScale\"},\"y_range\":{\"id\":\"4eebd769-9adf-4fa7-a5d4-1cf2b9e96cb7\",\"type\":\"DataRange1d\"},\"y_scale\":{\"id\":\"e7fc501b-0a91-4c3c-ad98-23414568dc7c\",\"type\":\"LinearScale\"}},\"id\":\"9996bcea-aa9a-42e5-aabb-77c678fc605d\",\"subtype\":\"Figure\",\"type\":\"Plot\"},{\"attributes\":{\"dimension\":1,\"plot\":{\"id\":\"01d12c3a-10e2-4458-849d-76a1fec5391c\",\"subtype\":\"Figure\",\"type\":\"Plot\"},\"ticker\":{\"id\":\"924ee948-23d1-4140-b1fe-0d04628e5c93\",\"type\":\"BasicTicker\"}},\"id\":\"103f6d4f-ea60-440e-9144-6f1556990fea\",\"type\":\"Grid\"},{\"attributes\":{\"callback\":null},\"id\":\"3238b79a-5049-4bfb-b60d-1cc0663843e8\",\"type\":\"DataRange1d\"},{\"attributes\":{\"overlay\":{\"id\":\"97f21dd6-077c-42cd-844b-3283def30fd7\",\"type\":\"BoxAnnotation\"}},\"id\":\"f87ac791-ca85-4ef1-9f4c-98b6ca79036b\",\"type\":\"BoxZoomTool\"},{\"attributes\":{\"plot\":{\"id\":\"01d12c3a-10e2-4458-849d-76a1fec5391c\",\"subtype\":\"Figure\",\"type\":\"Plot\"},\"ticker\":{\"id\":\"897df919-eb86-4aad-879d-d393ffbe2807\",\"type\":\"BasicTicker\"}},\"id\":\"def7d692-39e1-43cc-bf57-05f7bc670ffb\",\"type\":\"Grid\"},{\"attributes\":{\"below\":[{\"id\":\"2d257535-286a-4403-95b6-05a39a7bd1cc\",\"type\":\"LinearAxis\"}],\"left\":[{\"id\":\"9dd03e20-1ade-4a45-85ec-c2cbcd4ff81c\",\"type\":\"LinearAxis\"}],\"plot_height\":400,\"plot_width\":400,\"renderers\":[{\"id\":\"2d257535-286a-4403-95b6-05a39a7bd1cc\",\"type\":\"LinearAxis\"},{\"id\":\"def7d692-39e1-43cc-bf57-05f7bc670ffb\",\"type\":\"Grid\"},{\"id\":\"9dd03e20-1ade-4a45-85ec-c2cbcd4ff81c\",\"type\":\"LinearAxis\"},{\"id\":\"103f6d4f-ea60-440e-9144-6f1556990fea\",\"type\":\"Grid\"},{\"id\":\"97f21dd6-077c-42cd-844b-3283def30fd7\",\"type\":\"BoxAnnotation\"},{\"id\":\"e6af7ecd-fa63-48a0-a309-0fc2241b962a\",\"type\":\"GlyphRenderer\"}],\"title\":{\"id\":\"6f75e31a-e040-4df2-8eca-84e2e9d88619\",\"type\":\"Title\"},\"toolbar\":{\"id\":\"dad8e05a-c576-4e7b-b65d-345ae4325259\",\"type\":\"Toolbar\"},\"toolbar_location\":null,\"x_range\":{\"id\":\"3238b79a-5049-4bfb-b60d-1cc0663843e8\",\"type\":\"DataRange1d\"},\"x_scale\":{\"id\":\"84e90974-d44d-4e50-b533-895a07d4efb9\",\"type\":\"LinearScale\"},\"y_range\":{\"id\":\"4eebd769-9adf-4fa7-a5d4-1cf2b9e96cb7\",\"type\":\"DataRange1d\"},\"y_scale\":{\"id\":\"8126b6c7-ec0d-48c2-ab68-1e957aff03a0\",\"type\":\"LinearScale\"}},\"id\":\"01d12c3a-10e2-4458-849d-76a1fec5391c\",\"subtype\":\"Figure\",\"type\":\"Plot\"},{\"attributes\":{\"active_drag\":\"auto\",\"active_inspect\":\"auto\",\"active_scroll\":\"auto\",\"active_tap\":\"auto\",\"tools\":[{\"id\":\"0d0ef28c-0511-4774-8d4c-aa7f66278652\",\"type\":\"PanTool\"},{\"id\":\"a290571a-27a9-465a-8e60-b1216812b073\",\"type\":\"WheelZoomTool\"},{\"id\":\"9d22c440-a13c-4e1a-a5e2-1560eeef3170\",\"type\":\"BoxZoomTool\"},{\"id\":\"021ea31f-7d9c-4d2c-a363-a5183c64fc83\",\"type\":\"HoverTool\"}]},\"id\":\"862c5ea5-5008-42ad-b10f-3cb84429ee36\",\"type\":\"Toolbar\"},{\"attributes\":{\"plot\":null,\"text\":\"Visualizing original dataset\"},\"id\":\"6f75e31a-e040-4df2-8eca-84e2e9d88619\",\"type\":\"Title\"},{\"attributes\":{},\"id\":\"924ee948-23d1-4140-b1fe-0d04628e5c93\",\"type\":\"BasicTicker\"},{\"attributes\":{\"source\":{\"id\":\"db1d5e98-a0a6-4f94-a74f-7c0f39b05e03\",\"type\":\"ColumnDataSource\"}},\"id\":\"ddb6797d-cec2-4395-b3a4-49f825953752\",\"type\":\"CDSView\"},{\"attributes\":{\"data_source\":{\"id\":\"11a5fe65-6dee-4370-8195-a3cd5851fc62\",\"type\":\"ColumnDataSource\"},\"glyph\":{\"id\":\"4a60057a-f034-43d8-894a-1f1f4ce4b69c\",\"type\":\"Circle\"},\"hover_glyph\":null,\"muted_glyph\":null,\"nonselection_glyph\":{\"id\":\"6a7840ca-caf4-4591-a1bd-5b1f74755f36\",\"type\":\"Circle\"},\"selection_glyph\":null,\"view\":{\"id\":\"b578f921-4e60-480b-8c2b-d1d6c46668a2\",\"type\":\"CDSView\"}},\"id\":\"10fdb747-7e48-4a41-a62b-60ae7bd97069\",\"type\":\"GlyphRenderer\"},{\"attributes\":{\"fill_alpha\":{\"value\":0.1},\"fill_color\":{\"value\":\"#1f77b4\"},\"line_alpha\":{\"value\":0.1},\"line_color\":{\"value\":\"#1f77b4\"},\"size\":{\"units\":\"screen\",\"value\":10},\"x\":{\"field\":\"x\"},\"y\":{\"field\":\"y\"}},\"id\":\"4f1c34dc-2f89-462e-99ad-d8ec5513f6b3\",\"type\":\"Circle\"},{\"attributes\":{},\"id\":\"a9d1815e-8bba-4b32-9225-2fc7944f531e\",\"type\":\"BasicTickFormatter\"},{\"attributes\":{\"callback\":null,\"column_names\":[\"x\",\"y\"],\"data\":{\"x\":[2674,3293,3516,507,1777,1795,3140,3321,1716,7425,5977,549,3881,6707,5058,964,4508,370,2767,2518,2259,375,2381,4337,4482,4003,242,100,8604,1107,2134,820,918,361,483,4239,862,6506,6956,212,1145,2575,6899,9529,4618,7353,6792,24171,5121,13583,609,1538,2587,5611,204,2024,17740,7572,227,3084,4095,26701,4074,7677,1247,24231,3468,5141,788,656,116,4173,1321,764,1901,3,529,12034,301,1202,610,7818,3537,550,3837,40827,20070,1579,165,454,69,627,18906,71,5038,223,3874,54,56,215,8035,6766,4573,1480,1491,139,6830,8969,2505,836,169,6457,483,585,118,276,310,319,411,266,174,264,25,1976,500,778,349,2386,1062,410,395,70,955,256,47,199,2447,721,249,637,960,51,20,399,516,12591,73,1082,283,113,170,255,352,302,7,11577,6694,811,4004,8077,4424,3,232,13726,3674,7108,4973,1680,79,69,7015,8773,2840,9836,153,4196,1532,20,120,273,1382,4948,6907,239,334,58,949,3459,6839,4027,118,43,187,5618,355,330,763,4314,592,402,9959,14235,284,954,5,9265,288,5316,3381,12420,244,19410,240,3961,5957,5828,13308,130,4797,86,56,4167,256,788,70,761,2568,263,4762,694,955,1566,284,409,325,1216,415,28,72,828,343,412,586,1682,3143,8933,430,44,562,918,234,18594,205,363,1547,111,392,3593,730,967,780,49,429,2894,5980,830,4882,737,6374,333,197,147,93,210,759,96,603,621,274,3620,167,2328,1041,314,751,436,1226,386,445,32,965,212,825,5952,811,2208,710,3712,4538,290,2662,8752,6236,10069,11783,3909,7558,351,257,6846,299,371,17120,183,857,3891,83,821,706,12408,275,228,1470,1679,140,1272,387,88,210,492,182,9606,178,38102,332,4111,146,442,15,573,7271,5162,4595,15469,217,3843,6600,4621,1184,12218,173,12638,90,8682,1333,184,9,6747,536,232,468,159,179,1335,514,4515,222,252,101,41,523,716,397,1916,311,476,4666,96,68,813,600,246,1711,397,282,192,353,231,200,227,311,95,122,385,149,841,3378,64,74,469,153,92,10,632,914,593,1092,7883,2730,2123,1860,235,2970,912,1135,3540,6728,3485,6740,1580,6818,3415,948,1803,3213,108,5079,439,850,84,241,1377,1328,356,2371,182,93,14841,168,477],\"y\":[7561,9568,7684,4221,7198,5126,6975,9426,6192,18881,12974,4523,11757,14982,12091,3821,12121,2933,10099,9464,4602,2010,4469,22019,13792,7595,2861,3045,25957,2609,11107,3133,2886,7326,2262,11091,5428,12477,16709,902,4757,5956,14961,23998,10471,21531,21955,55571,10868,28921,1980,6996,5876,11532,1947,5005,26866,10487,1648,8040,7854,59598,6544,15775,3250,45828,7417,13462,3993,1293,3202,21042,2661,8713,9794,3,6532,28540,2067,3655,3009,14403,11009,1783,4814,92780,32114,8117,4042,5330,1638,2530,32034,2062,11323,6252,8118,610,778,1909,12144,16267,7677,8906,3445,3970,10704,14886,6981,28986,1694,17569,2469,1733,2000,2988,3355,5380,2362,2147,3412,1498,245,8814,2961,7102,1658,10685,3823,1510,699,314,2479,1235,2174,2591,7030,8282,5034,3343,7305,5189,8253,1096,1988,34792,2177,2707,542,1651,1765,2022,3135,2368,137,19460,14855,2474,9618,14682,12822,283,3810,26870,8584,19858,9170,3268,803,2155,13430,19816,6536,19805,5241,11874,6536,4533,4945,2500,8887,18148,10518,20170,4710,1139,854,9819,11687,11522,1981,1381,2251,20292,2974,5230,4897,10391,6824,2112,23127,24708,9490,2216,5226,23596,950,6089,5838,16767,1393,39694,2062,6861,11364,15538,36486,2046,15205,1390,1382,10646,2856,5265,1499,4157,9212,1563,572,2501,5615,3828,3838,3316,3833,2824,3047,593,585,3779,7041,2475,2914,5119,10817,13916,1777,489,2406,2070,1799,33586,4740,16966,4748,1495,5249,1883,2124,7336,2157,1094,1677,6684,15445,13699,22182,2576,19847,1138,975,1563,6869,1493,1841,223,6964,683,2543,9694,2431,6235,4252,2013,12609,3600,1242,2828,1296,471,2642,3261,4329,12469,6550,5234,3643,6986,9965,2060,6360,20399,9785,13829,24773,8852,21570,2842,3007,13567,2405,8280,19172,2405,7647,11924,2201,6114,3558,17645,2280,5167,3315,11593,2464,13626,1431,1664,3389,4583,5109,26839,1447,67298,2743,10790,1330,2611,7021,5332,9670,11238,5923,26316,1763,8335,15541,12311,2028,20521,1997,22294,1533,21203,2548,2012,218,22272,1660,2109,2006,864,2453,4438,1524,8025,1664,534,2406,683,4955,1939,1641,7398,1668,1162,13586,2648,1902,10391,2146,1617,8469,3450,15400,1614,2857,1573,1172,1422,1328,2313,3600,3842,3204,1263,9345,1428,582,935,1238,2128,5091,4604,3444,1167,5026,18683,6407,6100,4563,3281,12400,6633,3417,8552,10908,11055,18622,2223,13227,9053,4172,4657,12232,2593,14316,5429,4910,3580,16483,5160,4754,1493,7994,16027,764,30243,2232,2510]}},\"id\":\"db1d5e98-a0a6-4f94-a74f-7c0f39b05e03\",\"type\":\"ColumnDataSource\"},{\"attributes\":{\"axis_label\":\"Detergents_Paper\",\"formatter\":{\"id\":\"a9d1815e-8bba-4b32-9225-2fc7944f531e\",\"type\":\"BasicTickFormatter\"},\"plot\":{\"id\":\"01d12c3a-10e2-4458-849d-76a1fec5391c\",\"subtype\":\"Figure\",\"type\":\"Plot\"},\"ticker\":{\"id\":\"897df919-eb86-4aad-879d-d393ffbe2807\",\"type\":\"BasicTicker\"}},\"id\":\"2d257535-286a-4403-95b6-05a39a7bd1cc\",\"type\":\"LinearAxis\"},{\"attributes\":{\"callback\":null},\"id\":\"4eebd769-9adf-4fa7-a5d4-1cf2b9e96cb7\",\"type\":\"DataRange1d\"},{\"attributes\":{\"axis_label\":\"Detergents_Paper\",\"formatter\":{\"id\":\"55634f9e-4b48-464b-9651-9a2e9c2a8acf\",\"type\":\"BasicTickFormatter\"},\"plot\":{\"id\":\"9996bcea-aa9a-42e5-aabb-77c678fc605d\",\"subtype\":\"Figure\",\"type\":\"Plot\"},\"ticker\":{\"id\":\"3fefc10f-1b24-47e5-918c-7a49e5a2c9ff\",\"type\":\"BasicTicker\"}},\"id\":\"99cd97ba-2026-4e28-a050-8d3835fdc9d8\",\"type\":\"LinearAxis\"},{\"attributes\":{\"plot\":{\"id\":\"9996bcea-aa9a-42e5-aabb-77c678fc605d\",\"subtype\":\"Figure\",\"type\":\"Plot\"},\"ticker\":{\"id\":\"3fefc10f-1b24-47e5-918c-7a49e5a2c9ff\",\"type\":\"BasicTicker\"}},\"id\":\"afb75026-2e9b-4e90-a1ed-acd5ff2c321a\",\"type\":\"Grid\"},{\"attributes\":{\"children\":[{\"id\":\"6b5fb875-c0ab-4b60-81d6-9f6f09ef83a1\",\"type\":\"Row\"}]},\"id\":\"c0fc1f6d-6a2f-47be-b2ac-ec0fbcd35de4\",\"type\":\"Column\"},{\"attributes\":{\"axis_label\":\"Grocery\",\"formatter\":{\"id\":\"0ecaf008-8f39-4d98-9f3a-026dbeb4f4b2\",\"type\":\"BasicTickFormatter\"},\"plot\":{\"id\":\"01d12c3a-10e2-4458-849d-76a1fec5391c\",\"subtype\":\"Figure\",\"type\":\"Plot\"},\"ticker\":{\"id\":\"924ee948-23d1-4140-b1fe-0d04628e5c93\",\"type\":\"BasicTicker\"}},\"id\":\"9dd03e20-1ade-4a45-85ec-c2cbcd4ff81c\",\"type\":\"LinearAxis\"},{\"attributes\":{},\"id\":\"84e90974-d44d-4e50-b533-895a07d4efb9\",\"type\":\"LinearScale\"},{\"attributes\":{},\"id\":\"3fefc10f-1b24-47e5-918c-7a49e5a2c9ff\",\"type\":\"BasicTicker\"},{\"attributes\":{\"axis_label\":\"Grocery\",\"formatter\":{\"id\":\"462b5e3d-e9c2-4b22-b10b-78f0e6b5b481\",\"type\":\"BasicTickFormatter\"},\"plot\":{\"id\":\"9996bcea-aa9a-42e5-aabb-77c678fc605d\",\"subtype\":\"Figure\",\"type\":\"Plot\"},\"ticker\":{\"id\":\"51de13c2-7584-4783-a50c-0054e3e6e844\",\"type\":\"BasicTicker\"}},\"id\":\"6b381567-a8aa-4252-98f1-5304d2544bc6\",\"type\":\"LinearAxis\"},{\"attributes\":{},\"id\":\"897df919-eb86-4aad-879d-d393ffbe2807\",\"type\":\"BasicTicker\"},{\"attributes\":{},\"id\":\"0d0ef28c-0511-4774-8d4c-aa7f66278652\",\"type\":\"PanTool\"},{\"attributes\":{},\"id\":\"8126b6c7-ec0d-48c2-ab68-1e957aff03a0\",\"type\":\"LinearScale\"},{\"attributes\":{\"children\":[{\"id\":\"fe8b2f5a-105c-4abe-ae7f-cd55eded0ba1\",\"type\":\"ToolbarBox\"},{\"id\":\"c0fc1f6d-6a2f-47be-b2ac-ec0fbcd35de4\",\"type\":\"Column\"}]},\"id\":\"3d6bf2ed-417b-4d41-9c5d-0960fdcfe8f9\",\"type\":\"Column\"},{\"attributes\":{\"sizing_mode\":\"scale_width\",\"toolbar_location\":\"above\",\"tools\":[{\"id\":\"0d0ef28c-0511-4774-8d4c-aa7f66278652\",\"type\":\"PanTool\"},{\"id\":\"a290571a-27a9-465a-8e60-b1216812b073\",\"type\":\"WheelZoomTool\"},{\"id\":\"9d22c440-a13c-4e1a-a5e2-1560eeef3170\",\"type\":\"BoxZoomTool\"},{\"id\":\"021ea31f-7d9c-4d2c-a363-a5183c64fc83\",\"type\":\"HoverTool\"},{\"id\":\"79954470-5a8f-4572-8eda-533951e5ecf4\",\"type\":\"PanTool\"},{\"id\":\"8f73aced-b489-460c-b13f-eba79ffb9b47\",\"type\":\"WheelZoomTool\"},{\"id\":\"f87ac791-ca85-4ef1-9f4c-98b6ca79036b\",\"type\":\"BoxZoomTool\"},{\"id\":\"2e85eb51-3874-42ce-ab91-f89ec2a24429\",\"type\":\"HoverTool\"}]},\"id\":\"fe8b2f5a-105c-4abe-ae7f-cd55eded0ba1\",\"type\":\"ToolbarBox\"},{\"attributes\":{},\"id\":\"e7fc501b-0a91-4c3c-ad98-23414568dc7c\",\"type\":\"LinearScale\"},{\"attributes\":{\"fill_alpha\":{\"value\":0.1},\"fill_color\":{\"value\":\"#1f77b4\"},\"line_alpha\":{\"value\":0.1},\"line_color\":{\"value\":\"#1f77b4\"},\"size\":{\"units\":\"screen\",\"value\":10},\"x\":{\"field\":\"x\"},\"y\":{\"field\":\"y\"}},\"id\":\"6a7840ca-caf4-4591-a1bd-5b1f74755f36\",\"type\":\"Circle\"},{\"attributes\":{\"overlay\":{\"id\":\"c5bd3084-4095-4d11-a6bc-bffd715d1362\",\"type\":\"BoxAnnotation\"}},\"id\":\"9d22c440-a13c-4e1a-a5e2-1560eeef3170\",\"type\":\"BoxZoomTool\"},{\"attributes\":{},\"id\":\"a290571a-27a9-465a-8e60-b1216812b073\",\"type\":\"WheelZoomTool\"},{\"attributes\":{},\"id\":\"55634f9e-4b48-464b-9651-9a2e9c2a8acf\",\"type\":\"BasicTickFormatter\"},{\"attributes\":{},\"id\":\"0ecaf008-8f39-4d98-9f3a-026dbeb4f4b2\",\"type\":\"BasicTickFormatter\"},{\"attributes\":{\"active_drag\":\"auto\",\"active_inspect\":\"auto\",\"active_scroll\":\"auto\",\"active_tap\":\"auto\",\"tools\":[{\"id\":\"79954470-5a8f-4572-8eda-533951e5ecf4\",\"type\":\"PanTool\"},{\"id\":\"8f73aced-b489-460c-b13f-eba79ffb9b47\",\"type\":\"WheelZoomTool\"},{\"id\":\"f87ac791-ca85-4ef1-9f4c-98b6ca79036b\",\"type\":\"BoxZoomTool\"},{\"id\":\"2e85eb51-3874-42ce-ab91-f89ec2a24429\",\"type\":\"HoverTool\"}]},\"id\":\"dad8e05a-c576-4e7b-b65d-345ae4325259\",\"type\":\"Toolbar\"},{\"attributes\":{\"source\":{\"id\":\"11a5fe65-6dee-4370-8195-a3cd5851fc62\",\"type\":\"ColumnDataSource\"}},\"id\":\"b578f921-4e60-480b-8c2b-d1d6c46668a2\",\"type\":\"CDSView\"},{\"attributes\":{\"data_source\":{\"id\":\"db1d5e98-a0a6-4f94-a74f-7c0f39b05e03\",\"type\":\"ColumnDataSource\"},\"glyph\":{\"id\":\"25989f0b-746f-4cb9-ba8e-b07caa9ffe45\",\"type\":\"Circle\"},\"hover_glyph\":null,\"muted_glyph\":null,\"nonselection_glyph\":{\"id\":\"4f1c34dc-2f89-462e-99ad-d8ec5513f6b3\",\"type\":\"Circle\"},\"selection_glyph\":null,\"view\":{\"id\":\"ddb6797d-cec2-4395-b3a4-49f825953752\",\"type\":\"CDSView\"}},\"id\":\"e6af7ecd-fa63-48a0-a309-0fc2241b962a\",\"type\":\"GlyphRenderer\"},{\"attributes\":{},\"id\":\"51de13c2-7584-4783-a50c-0054e3e6e844\",\"type\":\"BasicTicker\"},{\"attributes\":{},\"id\":\"462b5e3d-e9c2-4b22-b10b-78f0e6b5b481\",\"type\":\"BasicTickFormatter\"},{\"attributes\":{\"bottom_units\":\"screen\",\"fill_alpha\":{\"value\":0.5},\"fill_color\":{\"value\":\"lightgrey\"},\"left_units\":\"screen\",\"level\":\"overlay\",\"line_alpha\":{\"value\":1.0},\"line_color\":{\"value\":\"black\"},\"line_dash\":[4,4],\"line_width\":{\"value\":2},\"plot\":null,\"render_mode\":\"css\",\"right_units\":\"screen\",\"top_units\":\"screen\"},\"id\":\"97f21dd6-077c-42cd-844b-3283def30fd7\",\"type\":\"BoxAnnotation\"},{\"attributes\":{\"dimension\":1,\"plot\":{\"id\":\"9996bcea-aa9a-42e5-aabb-77c678fc605d\",\"subtype\":\"Figure\",\"type\":\"Plot\"},\"ticker\":{\"id\":\"51de13c2-7584-4783-a50c-0054e3e6e844\",\"type\":\"BasicTicker\"}},\"id\":\"43a9b04a-0e4d-43fa-bdd5-ca4c58a4b6c8\",\"type\":\"Grid\"},{\"attributes\":{},\"id\":\"8f73aced-b489-460c-b13f-eba79ffb9b47\",\"type\":\"WheelZoomTool\"}],\"root_ids\":[\"3d6bf2ed-417b-4d41-9c5d-0960fdcfe8f9\"]},\"title\":\"Bokeh Application\",\"version\":\"0.12.7\"}};\n",
       "            var render_items = [{\"docid\":\"1cfcf924-cb27-495f-bb56-3c24dcc55760\",\"elementid\":\"ca89f479-5f2c-441f-a198-a85cc099f6af\",\"modelid\":\"3d6bf2ed-417b-4d41-9c5d-0960fdcfe8f9\"}];\n",
       "            \n",
       "            Bokeh.embed.embed_items(docs_json, render_items);\n",
       "          };\n",
       "          if (document.readyState != \"loading\") fn();\n",
       "          else document.addEventListener(\"DOMContentLoaded\", fn);\n",
       "        })();\n",
       "      },\n",
       "      function(Bokeh) {\n",
       "      }\n",
       "    ];\n",
       "  \n",
       "    function run_inline_js() {\n",
       "      \n",
       "      if ((root.Bokeh !== undefined) || (force === true)) {\n",
       "        for (var i = 0; i < inline_js.length; i++) {\n",
       "          inline_js[i].call(root, root.Bokeh);\n",
       "        }if (force === true) {\n",
       "          display_loaded();\n",
       "        }} else if (Date.now() < root._bokeh_timeout) {\n",
       "        setTimeout(run_inline_js, 100);\n",
       "      } else if (!root._bokeh_failed_load) {\n",
       "        console.log(\"Bokeh: BokehJS failed to load within specified timeout.\");\n",
       "        root._bokeh_failed_load = true;\n",
       "      } else if (force !== true) {\n",
       "        var cell = $(document.getElementById(\"ca89f479-5f2c-441f-a198-a85cc099f6af\")).parents('.cell').data().cell;\n",
       "        cell.output_area.append_execute_result(NB_LOAD_WARNING)\n",
       "      }\n",
       "  \n",
       "    }\n",
       "  \n",
       "    if (root._bokeh_is_loading === 0) {\n",
       "      console.log(\"Bokeh: BokehJS loaded, going straight to plotting\");\n",
       "      run_inline_js();\n",
       "    } else {\n",
       "      load_libs(js_urls, function() {\n",
       "        console.log(\"Bokeh: BokehJS plotting callback run at\", now());\n",
       "        run_inline_js();\n",
       "      });\n",
       "    }\n",
       "  }(window));\n",
       "</script>"
      ]
     },
     "metadata": {},
     "output_type": "display_data"
    }
   ],
   "source": [
    "#Visualizing the two datasets\n",
    "from bokeh.layouts import gridplot\n",
    "x1,y1 = dataset1.Detergents_Paper, dataset1.Grocery\n",
    "x2,y2 = dataset2.Detergents_Paper, dataset2.Grocery\n",
    "\n",
    "plot_options = dict(width=400, plot_height=400, tools='pan,wheel_zoom,box_zoom,hover')\n",
    "p1 = figure(**plot_options, title=\"Visualizing dataset with missing values\")\n",
    "p1.circle(x1, y1, size=10, color=\"navy\")\n",
    "p1.xaxis.axis_label = \"Detergents_Paper\"\n",
    "p1.yaxis.axis_label = \"Grocery\"\n",
    "\n",
    "p2 = figure(x_range=p1.x_range, y_range=p1.y_range, **plot_options, title=\"Visualizing original dataset\")\n",
    "p2.circle(x2, y2, size=10, color=\"red\")\n",
    "p2.xaxis.axis_label = \"Detergents_Paper\"\n",
    "p2.yaxis.axis_label = \"Grocery\"\n",
    "\n",
    "p = gridplot([[p1, p2]])\n",
    "show(p)"
   ]
  },
  {
   "cell_type": "code",
   "execution_count": 81,
   "metadata": {
    "collapsed": true
   },
   "outputs": [],
   "source": [
    "#Since there are just six missing values in the dataset, the difference between the two cannot be identified by plotting all of the points\n",
    "#We now explore methods to impute the missing values "
   ]
  },
  {
   "cell_type": "code",
   "execution_count": 83,
   "metadata": {},
   "outputs": [
    {
     "name": "stdout",
     "output_type": "stream",
     "text": [
      "Shape of the dataset after deleting rows (434, 8)\n",
      "Count of missing attributes:\n",
      "Channel             0\n",
      "Region              0\n",
      "Fresh               0\n",
      "Milk                0\n",
      "Grocery             0\n",
      "Frozen              0\n",
      "Detergents_Paper    0\n",
      "Delicassen          0\n",
      "dtype: int64\n"
     ]
    }
   ],
   "source": [
    "#Dropping rows with missing values\n",
    "sol1 = dataset1.dropna()\n",
    "print(\"Shape of the dataset after deleting rows\",sol1.shape)\n",
    "print(\"Count of missing attributes:\")\n",
    "print((sol1.isnull()).sum())"
   ]
  },
  {
   "cell_type": "code",
   "execution_count": 84,
   "metadata": {},
   "outputs": [
    {
     "name": "stdout",
     "output_type": "stream",
     "text": [
      "Shape of the dataset after inserting global constant in place of missing values (440, 8)\n",
      "Count of missing attributes:\n",
      "Channel             0\n",
      "Region              0\n",
      "Fresh               0\n",
      "Milk                0\n",
      "Grocery             0\n",
      "Frozen              0\n",
      "Detergents_Paper    0\n",
      "Delicassen          0\n",
      "dtype: int64\n"
     ]
    }
   ],
   "source": [
    "#Using a global constant in place of missing values\n",
    "sol2 = dataset1.fillna(-1)\n",
    "print(\"Shape of the dataset after inserting global constant in place of missing values\",sol2.shape)\n",
    "print(\"Count of missing attributes:\")\n",
    "print((sol2.isnull()).sum())"
   ]
  },
  {
   "cell_type": "code",
   "execution_count": 85,
   "metadata": {},
   "outputs": [
    {
     "name": "stdout",
     "output_type": "stream",
     "text": [
      "Shape of the dataset after replacing missing values with the mean (440, 8)\n",
      "Count of missing attributes:\n",
      "Channel             0\n",
      "Region              0\n",
      "Fresh               0\n",
      "Milk                0\n",
      "Grocery             0\n",
      "Frozen              0\n",
      "Detergents_Paper    0\n",
      "Delicassen          0\n",
      "dtype: int64\n"
     ]
    },
    {
     "data": {
      "text/plain": [
       "Channel                 1.000000\n",
       "Region                  3.000000\n",
       "Fresh               20398.000000\n",
       "Milk                 1137.000000\n",
       "Grocery              7972.655251\n",
       "Frozen               4407.000000\n",
       "Detergents_Paper        3.000000\n",
       "Delicassen            975.000000\n",
       "Name: 75, dtype: float64"
      ]
     },
     "execution_count": 85,
     "metadata": {},
     "output_type": "execute_result"
    }
   ],
   "source": [
    "#Replacing missing values with the mean\n",
    "sol3 = dataset1.fillna(dataset1.mean())\n",
    "print(\"Shape of the dataset after replacing missing values with the mean\",sol3.shape)\n",
    "print(\"Count of missing attributes:\")\n",
    "print((sol3.isnull()).sum())\n",
    "#Checking the value of one of the blank cells (Value at Grocery attribute will change)\n",
    "sol3.loc[75]"
   ]
  },
  {
   "cell_type": "code",
   "execution_count": 86,
   "metadata": {},
   "outputs": [
    {
     "name": "stdout",
     "output_type": "stream",
     "text": [
      "Shape of the dataset after carrying the previous value forward to the missing cell (440, 8)\n",
      "Count of missing attributes:\n",
      "Channel             0\n",
      "Region              0\n",
      "Fresh               0\n",
      "Milk                0\n",
      "Grocery             0\n",
      "Frozen              0\n",
      "Detergents_Paper    0\n",
      "Delicassen          0\n",
      "dtype: int64\n"
     ]
    },
    {
     "data": {
      "text/plain": [
       "Channel                 1.0\n",
       "Region                  3.0\n",
       "Fresh               20398.0\n",
       "Milk                 1137.0\n",
       "Grocery              9794.0\n",
       "Frozen               4407.0\n",
       "Detergents_Paper        3.0\n",
       "Delicassen            975.0\n",
       "Name: 75, dtype: float64"
      ]
     },
     "execution_count": 86,
     "metadata": {},
     "output_type": "execute_result"
    }
   ],
   "source": [
    "#Filling gaps forward\n",
    "sol4 = dataset1.fillna(method='pad')\n",
    "print(\"Shape of the dataset after carrying the previous value forward to the missing cell\",sol4.shape)\n",
    "print(\"Count of missing attributes:\")\n",
    "print((sol4.isnull()).sum())\n",
    "#Checking the value of one of the blank cells (Value at Grocery attribute will change)\n",
    "sol4.loc[75]"
   ]
  },
  {
   "cell_type": "code",
   "execution_count": 87,
   "metadata": {},
   "outputs": [
    {
     "name": "stdout",
     "output_type": "stream",
     "text": [
      "Shape of the dataset after performing linear interpolation (440, 8)\n",
      "Count of missing attributes:\n",
      "Channel             0\n",
      "Region              0\n",
      "Fresh               0\n",
      "Milk                0\n",
      "Grocery             0\n",
      "Frozen              0\n",
      "Detergents_Paper    0\n",
      "Delicassen          0\n",
      "dtype: int64\n"
     ]
    },
    {
     "data": {
      "text/plain": [
       "Channel                 1.0\n",
       "Region                  3.0\n",
       "Fresh               20398.0\n",
       "Milk                 1137.0\n",
       "Grocery              8163.0\n",
       "Frozen               4407.0\n",
       "Detergents_Paper        3.0\n",
       "Delicassen            975.0\n",
       "Name: 75, dtype: float64"
      ]
     },
     "execution_count": 87,
     "metadata": {},
     "output_type": "execute_result"
    }
   ],
   "source": [
    "#Linear Interpolation\n",
    "sol5 = dataset1.interpolate()\n",
    "print(\"Shape of the dataset after performing linear interpolation\",sol5.shape)\n",
    "print(\"Count of missing attributes:\")\n",
    "print((sol5.isnull()).sum())\n",
    "#Checking the value of one of the blank cells (Value at Grocery attribute will change)\n",
    "sol5.loc[75]"
   ]
  },
  {
   "cell_type": "code",
   "execution_count": 88,
   "metadata": {
    "collapsed": true
   },
   "outputs": [],
   "source": [
    "#Linear Regression\n",
    "import numpy as np\n",
    "import sklearn\n",
    "import pandas as pd\n",
    "import scipy.stats as stats\n",
    "lr_data = dataset1.fillna(0)"
   ]
  },
  {
   "cell_type": "code",
   "execution_count": 89,
   "metadata": {},
   "outputs": [
    {
     "name": "stdout",
     "output_type": "stream",
     "text": [
      "The calculated coefficients are [  2.08265023e+02   1.01789066e+02   1.30252878e-02   1.63350602e-01\n",
      "   1.31660687e-01   1.52990185e-01  -3.57763954e-01]\n",
      "Predicted value for missing cell is  290.107160598\n"
     ]
    }
   ],
   "source": [
    "from sklearn.linear_model import LinearRegression\n",
    "X = lr_data.drop('Delicassen', axis=1)\n",
    "lr=LinearRegression()\n",
    "lr.fit(X, lr_data.Delicassen)\n",
    "print('The calculated coefficients are', lr.coef_)\n",
    "print(\"Predicted value for missing cell is \", lr.predict(X)[274])"
   ]
  },
  {
   "cell_type": "code",
   "execution_count": 90,
   "metadata": {},
   "outputs": [
    {
     "name": "stdout",
     "output_type": "stream",
     "text": [
      "The calculated coefficients are [  8.35002627e+02  -4.01528630e+01  -1.80884797e-02   3.65467144e-02\n",
      "   4.28324714e-01  -2.78008999e-02  -1.87651901e-01]\n",
      "Predicted value for missing cell is  1152.34849146\n"
     ]
    }
   ],
   "source": [
    "X = lr_data.drop('Detergents_Paper', axis=1)\n",
    "lr=LinearRegression()\n",
    "lr.fit(X, lr_data.Detergents_Paper)\n",
    "print('The calculated coefficients are', lr.coef_)\n",
    "print(\"Predicted value for missing cell is \", lr.predict(X)[225])"
   ]
  },
  {
   "cell_type": "code",
   "execution_count": 91,
   "metadata": {},
   "outputs": [
    {
     "name": "stdout",
     "output_type": "stream",
     "text": [
      "The calculated coefficients are [  8.35002627e+02  -4.01528630e+01  -1.80884797e-02   3.65467144e-02\n",
      "   4.28324714e-01  -2.78008999e-02  -1.87651901e-01]\n",
      "Predicted value for missing cell is  1494.61745816\n"
     ]
    }
   ],
   "source": [
    "X = lr_data.drop('Detergents_Paper', axis=1)\n",
    "lr=LinearRegression()\n",
    "lr.fit(X, lr_data.Detergents_Paper)\n",
    "print('The calculated coefficients are', lr.coef_)\n",
    "print(\"Predicted value for missing cell is \", lr.predict(X)[370])"
   ]
  },
  {
   "cell_type": "code",
   "execution_count": 92,
   "metadata": {},
   "outputs": [
    {
     "name": "stdout",
     "output_type": "stream",
     "text": [
      "The calculated coefficients are [  7.39737285e+02  -5.56197504e+01   3.15869639e-02   1.75950643e-01\n",
      "   2.45278210e-02   1.61684578e+00   2.60680154e-01]\n",
      "Predicted value for missing cell is  2360.87299935\n"
     ]
    }
   ],
   "source": [
    "X = lr_data.drop('Grocery', axis=1)\n",
    "lr=LinearRegression()\n",
    "lr.fit(X, lr_data.Grocery)\n",
    "print('The calculated coefficients are', lr.coef_)\n",
    "print(\"Predicted value for missing cell is \", lr.predict(X)[75])"
   ]
  },
  {
   "cell_type": "code",
   "execution_count": 93,
   "metadata": {},
   "outputs": [
    {
     "name": "stdout",
     "output_type": "stream",
     "text": [
      "The calculated coefficients are [  7.39737285e+02  -5.56197504e+01   3.15869639e-02   1.75950643e-01\n",
      "   2.45278210e-02   1.61684578e+00   2.60680154e-01]\n",
      "Predicted value for missing cell is  6927.90821042\n"
     ]
    }
   ],
   "source": [
    "X = lr_data.drop('Grocery', axis=1)\n",
    "lr=LinearRegression()\n",
    "lr.fit(X, lr_data.Grocery)\n",
    "print('The calculated coefficients are', lr.coef_)\n",
    "print(\"Predicted value for missing cell is \", lr.predict(X)[172])"
   ]
  },
  {
   "cell_type": "code",
   "execution_count": 94,
   "metadata": {},
   "outputs": [
    {
     "name": "stdout",
     "output_type": "stream",
     "text": [
      "The calculated coefficients are [  1.04674753e+03   1.07414505e+02   2.92153842e-02   3.62922842e-01\n",
      "   9.74186466e-02   2.84555674e-01   6.67107825e-01]\n",
      "Predicted value for missing cell is  6011.61763523\n"
     ]
    }
   ],
   "source": [
    "X = lr_data.drop('Milk', axis=1)\n",
    "lr=LinearRegression()\n",
    "lr.fit(X, lr_data.Milk)\n",
    "print('The calculated coefficients are', lr.coef_)\n",
    "print(\"Predicted value for missing cell is \", lr.predict(X)[180])"
   ]
  },
  {
   "cell_type": "code",
   "execution_count": 95,
   "metadata": {
    "collapsed": true
   },
   "outputs": [],
   "source": [
    "#We have explored various methods to handle the missing data.\n",
    "#Now, we use visualizations to compare the actual value with the imputed value"
   ]
  },
  {
   "cell_type": "code",
   "execution_count": 96,
   "metadata": {
    "collapsed": true
   },
   "outputs": [],
   "source": [
    "from pandas import ExcelWriter\n",
    "from pandas import ExcelFile\n",
    "\n",
    "df1 = pd.read_excel('Missing_data.xlsx', sheetname='Mean')\n",
    "df2 = pd.read_excel('Missing_data.xlsx', sheetname='Linear_Interpolation')\n",
    "df3 = pd.read_excel('Missing_data.xlsx', sheetname='Linear_Regression')\n",
    "df4 = pd.read_excel('Missing_data.xlsx', sheetname='Fill_forward')"
   ]
  },
  {
   "cell_type": "code",
   "execution_count": 97,
   "metadata": {
    "collapsed": true
   },
   "outputs": [],
   "source": [
    "x1,y1 = df1.Actual_Value, df1.Predicted_Value\n",
    "x2,y2 = df2.Actual_Value, df2.Predicted_Value\n",
    "x3,y3 = df3.Actual_Value, df3.Predicted_Value\n",
    "x4,y4 = df4.Actual_Value, df4.Predicted_Value"
   ]
  },
  {
   "cell_type": "code",
   "execution_count": 98,
   "metadata": {},
   "outputs": [],
   "source": [
    "from bokeh.models import ColumnDataSource\n",
    "source = ColumnDataSource(data=dict(x1=x1, y1=y1, x2=x2, y2=y2, x3=x3, y3=y3, x4=x4, y4=y4))"
   ]
  },
  {
   "cell_type": "code",
   "execution_count": 73,
   "metadata": {},
   "outputs": [
    {
     "data": {
      "text/html": [
       "\n",
       "\n",
       "    <div class=\"bk-root\">\n",
       "        <div class=\"bk-plotdiv\" id=\"f691ef49-b4b0-46ce-975d-464062982e48\"></div>\n",
       "    </div>\n",
       "<script type=\"text/javascript\">\n",
       "  \n",
       "  (function(root) {\n",
       "    function now() {\n",
       "      return new Date();\n",
       "    }\n",
       "  \n",
       "    var force = false;\n",
       "  \n",
       "    if (typeof (root._bokeh_onload_callbacks) === \"undefined\" || force === true) {\n",
       "      root._bokeh_onload_callbacks = [];\n",
       "      root._bokeh_is_loading = undefined;\n",
       "    }\n",
       "  \n",
       "  \n",
       "    \n",
       "    if (typeof (root._bokeh_timeout) === \"undefined\" || force === true) {\n",
       "      root._bokeh_timeout = Date.now() + 0;\n",
       "      root._bokeh_failed_load = false;\n",
       "    }\n",
       "  \n",
       "    var NB_LOAD_WARNING = {'data': {'text/html':\n",
       "       \"<div style='background-color: #fdd'>\\n\"+\n",
       "       \"<p>\\n\"+\n",
       "       \"BokehJS does not appear to have successfully loaded. If loading BokehJS from CDN, this \\n\"+\n",
       "       \"may be due to a slow or bad network connection. Possible fixes:\\n\"+\n",
       "       \"</p>\\n\"+\n",
       "       \"<ul>\\n\"+\n",
       "       \"<li>re-rerun `output_notebook()` to attempt to load from CDN again, or</li>\\n\"+\n",
       "       \"<li>use INLINE resources instead, as so:</li>\\n\"+\n",
       "       \"</ul>\\n\"+\n",
       "       \"<code>\\n\"+\n",
       "       \"from bokeh.resources import INLINE\\n\"+\n",
       "       \"output_notebook(resources=INLINE)\\n\"+\n",
       "       \"</code>\\n\"+\n",
       "       \"</div>\"}};\n",
       "  \n",
       "    function display_loaded() {\n",
       "      if (root.Bokeh !== undefined) {\n",
       "        var el = document.getElementById(\"f691ef49-b4b0-46ce-975d-464062982e48\");\n",
       "        if (el != null) {\n",
       "          el.textContent = \"BokehJS \" + Bokeh.version + \" successfully loaded.\";\n",
       "        }\n",
       "      } else if (Date.now() < root._bokeh_timeout) {\n",
       "        setTimeout(display_loaded, 100)\n",
       "      }\n",
       "    }\n",
       "  \n",
       "  \n",
       "    function run_callbacks() {\n",
       "      try {\n",
       "        root._bokeh_onload_callbacks.forEach(function(callback) { callback() });\n",
       "      }\n",
       "      finally {\n",
       "        delete root._bokeh_onload_callbacks\n",
       "      }\n",
       "      console.info(\"Bokeh: all callbacks have finished\");\n",
       "    }\n",
       "  \n",
       "    function load_libs(js_urls, callback) {\n",
       "      root._bokeh_onload_callbacks.push(callback);\n",
       "      if (root._bokeh_is_loading > 0) {\n",
       "        console.log(\"Bokeh: BokehJS is being loaded, scheduling callback at\", now());\n",
       "        return null;\n",
       "      }\n",
       "      if (js_urls == null || js_urls.length === 0) {\n",
       "        run_callbacks();\n",
       "        return null;\n",
       "      }\n",
       "      console.log(\"Bokeh: BokehJS not loaded, scheduling load and callback at\", now());\n",
       "      root._bokeh_is_loading = js_urls.length;\n",
       "      for (var i = 0; i < js_urls.length; i++) {\n",
       "        var url = js_urls[i];\n",
       "        var s = document.createElement('script');\n",
       "        s.src = url;\n",
       "        s.async = false;\n",
       "        s.onreadystatechange = s.onload = function() {\n",
       "          root._bokeh_is_loading--;\n",
       "          if (root._bokeh_is_loading === 0) {\n",
       "            console.log(\"Bokeh: all BokehJS libraries loaded\");\n",
       "            run_callbacks()\n",
       "          }\n",
       "        };\n",
       "        s.onerror = function() {\n",
       "          console.warn(\"failed to load library \" + url);\n",
       "        };\n",
       "        console.log(\"Bokeh: injecting script tag for BokehJS library: \", url);\n",
       "        document.getElementsByTagName(\"head\")[0].appendChild(s);\n",
       "      }\n",
       "    };var element = document.getElementById(\"f691ef49-b4b0-46ce-975d-464062982e48\");\n",
       "    if (element == null) {\n",
       "      console.log(\"Bokeh: ERROR: autoload.js configured with elementid 'f691ef49-b4b0-46ce-975d-464062982e48' but no matching script tag was found. \")\n",
       "      return false;\n",
       "    }\n",
       "  \n",
       "    var js_urls = [];\n",
       "  \n",
       "    var inline_js = [\n",
       "      function(Bokeh) {\n",
       "        (function() {\n",
       "          var fn = function() {\n",
       "            var docs_json = {\"c012cf32-40fb-446e-8280-b760bfd207e5\":{\"roots\":{\"references\":[{\"attributes\":{\"below\":[{\"id\":\"05f8f305-02c7-43cf-b8b6-f7c96299e9b4\",\"type\":\"LinearAxis\"}],\"left\":[{\"id\":\"6db1d903-3339-4724-9c19-23128d079166\",\"type\":\"LinearAxis\"}],\"plot_height\":300,\"plot_width\":300,\"renderers\":[{\"id\":\"05f8f305-02c7-43cf-b8b6-f7c96299e9b4\",\"type\":\"LinearAxis\"},{\"id\":\"07ebee76-ae94-43af-8a7c-3c51f7b3b2b3\",\"type\":\"Grid\"},{\"id\":\"6db1d903-3339-4724-9c19-23128d079166\",\"type\":\"LinearAxis\"},{\"id\":\"ff5503e0-5652-402a-a691-088564287d8b\",\"type\":\"Grid\"},{\"id\":\"6c809c43-c967-4155-8516-2504ca414f57\",\"type\":\"BoxAnnotation\"},{\"id\":\"1b7fef40-d973-446c-822c-da9407af97d6\",\"type\":\"PolyAnnotation\"},{\"id\":\"8a6264ec-d3a5-4322-8471-2ed214ffd091\",\"type\":\"GlyphRenderer\"}],\"title\":{\"id\":\"2173c1d1-f0af-4f7b-bda8-08f21e2ed1a7\",\"type\":\"Title\"},\"toolbar\":{\"id\":\"a64c1292-825e-4f0c-906b-13e5e7dc5998\",\"type\":\"Toolbar\"},\"toolbar_location\":null,\"x_range\":{\"id\":\"f82439be-b4f6-453d-b62a-d07457fadf95\",\"type\":\"DataRange1d\"},\"x_scale\":{\"id\":\"3ccffabd-d255-465c-aecb-6ed0e7a649df\",\"type\":\"LinearScale\"},\"y_range\":{\"id\":\"aceea5b0-ebbe-428d-958c-989f905ed4d5\",\"type\":\"DataRange1d\"},\"y_scale\":{\"id\":\"69dca9f4-74e3-45e5-a341-a3ab7f8d8199\",\"type\":\"LinearScale\"}},\"id\":\"1f7cb5e0-4019-48d3-b952-0f0517a7db8b\",\"subtype\":\"Figure\",\"type\":\"Plot\"},{\"attributes\":{},\"id\":\"efd8cc42-7642-49b9-b5fe-f4fcc8ad59ef\",\"type\":\"BasicTickFormatter\"},{\"attributes\":{\"dimension\":1,\"plot\":{\"id\":\"533267e5-1db3-4e3c-acf2-0a5847e79da1\",\"subtype\":\"Figure\",\"type\":\"Plot\"},\"ticker\":{\"id\":\"2af5b378-d726-4cde-9372-2acbdeb41d6d\",\"type\":\"BasicTicker\"}},\"id\":\"c2712c1a-3fad-4f5c-8ee9-3e12aa3fee9c\",\"type\":\"Grid\"},{\"attributes\":{},\"id\":\"5cc76fc5-c79b-4d0a-90fb-bf165bb7ed2e\",\"type\":\"BasicTickFormatter\"},{\"attributes\":{\"below\":[{\"id\":\"63325078-8fdd-4137-a3bb-68b26006b9d1\",\"type\":\"LinearAxis\"}],\"left\":[{\"id\":\"c2f8fdae-b5f6-4c88-ad94-a61a5a505b27\",\"type\":\"LinearAxis\"}],\"plot_height\":300,\"plot_width\":300,\"renderers\":[{\"id\":\"63325078-8fdd-4137-a3bb-68b26006b9d1\",\"type\":\"LinearAxis\"},{\"id\":\"d341df8a-9b63-4dbe-a707-ee81ac9c8ece\",\"type\":\"Grid\"},{\"id\":\"c2f8fdae-b5f6-4c88-ad94-a61a5a505b27\",\"type\":\"LinearAxis\"},{\"id\":\"8c348414-2afb-4ed5-964c-0260dd474b63\",\"type\":\"Grid\"},{\"id\":\"a2cc6fcf-0a3d-4ac7-9558-b28bb1b296fe\",\"type\":\"BoxAnnotation\"},{\"id\":\"cf87f5bb-19e0-4da4-8fc8-5b7b5146d4e4\",\"type\":\"PolyAnnotation\"},{\"id\":\"11ac5a96-260f-4fcd-afbc-5a9b9fad038c\",\"type\":\"GlyphRenderer\"}],\"title\":{\"id\":\"2c9e3d8d-88fa-42cd-869b-ad5f9c4e6c85\",\"type\":\"Title\"},\"toolbar\":{\"id\":\"0ddbdcf3-593b-46ae-a553-0544c31f6dc2\",\"type\":\"Toolbar\"},\"toolbar_location\":null,\"x_range\":{\"id\":\"957bf3e2-d1c3-4731-a5f1-c0ea3bcd13f0\",\"type\":\"DataRange1d\"},\"x_scale\":{\"id\":\"8a7e1ebb-372a-46a4-b65c-63ec50ddb424\",\"type\":\"LinearScale\"},\"y_range\":{\"id\":\"87b41ef8-58a9-4fb0-b8eb-23a00935bf35\",\"type\":\"DataRange1d\"},\"y_scale\":{\"id\":\"37a152ca-8323-4294-9ed7-ce673200a109\",\"type\":\"LinearScale\"}},\"id\":\"26254b52-1af5-41f4-8226-8b06eaf03c65\",\"subtype\":\"Figure\",\"type\":\"Plot\"},{\"attributes\":{\"callback\":null},\"id\":\"631c1085-bc92-47b7-bc94-150c27596d8e\",\"type\":\"DataRange1d\"},{\"attributes\":{\"fill_alpha\":{\"value\":0.5},\"fill_color\":{\"value\":\"lightgrey\"},\"level\":\"overlay\",\"line_alpha\":{\"value\":1.0},\"line_color\":{\"value\":\"black\"},\"line_dash\":[4,4],\"line_width\":{\"value\":2},\"plot\":null,\"xs_units\":\"screen\",\"ys_units\":\"screen\"},\"id\":\"a2afa46f-fff4-49bf-8c7d-65c71745a7ed\",\"type\":\"PolyAnnotation\"},{\"attributes\":{\"plot\":{\"id\":\"26254b52-1af5-41f4-8226-8b06eaf03c65\",\"subtype\":\"Figure\",\"type\":\"Plot\"},\"ticker\":{\"id\":\"05eddcc4-5ca2-4280-b6fd-f1d261965488\",\"type\":\"BasicTicker\"}},\"id\":\"d341df8a-9b63-4dbe-a707-ee81ac9c8ece\",\"type\":\"Grid\"},{\"attributes\":{\"callback\":null,\"overlay\":{\"id\":\"8efb0c03-6be4-4590-a6dc-93e3b41af998\",\"type\":\"BoxAnnotation\"},\"renderers\":[{\"id\":\"3c91ada2-758e-4c63-b879-ee023492620e\",\"type\":\"GlyphRenderer\"}]},\"id\":\"535ade53-8567-4d11-b281-eb973f3919da\",\"type\":\"BoxSelectTool\"},{\"attributes\":{\"plot\":null,\"text\":\"Mean\"},\"id\":\"2173c1d1-f0af-4f7b-bda8-08f21e2ed1a7\",\"type\":\"Title\"},{\"attributes\":{\"callback\":null},\"id\":\"f82439be-b4f6-453d-b62a-d07457fadf95\",\"type\":\"DataRange1d\"},{\"attributes\":{\"callback\":null},\"id\":\"5c189c05-3930-404e-8b27-e5174f610fe3\",\"type\":\"DataRange1d\"},{\"attributes\":{\"callback\":null,\"overlay\":{\"id\":\"a2afa46f-fff4-49bf-8c7d-65c71745a7ed\",\"type\":\"PolyAnnotation\"}},\"id\":\"102d7fd4-d720-431e-a0bf-8b2007e82aef\",\"type\":\"LassoSelectTool\"},{\"attributes\":{\"active_drag\":\"auto\",\"active_inspect\":\"auto\",\"active_scroll\":\"auto\",\"active_tap\":\"auto\",\"tools\":[{\"id\":\"defc030c-89fa-4335-a38d-279d9881500e\",\"type\":\"BoxSelectTool\"},{\"id\":\"f0a756b1-a20b-4c12-8583-235bd90136e2\",\"type\":\"LassoSelectTool\"},{\"id\":\"0e52a6b2-810d-4396-87f8-8d6fb97b1bfe\",\"type\":\"PanTool\"},{\"id\":\"a622bc8c-2500-466b-8fc9-54b4be964436\",\"type\":\"HelpTool\"}]},\"id\":\"a64c1292-825e-4f0c-906b-13e5e7dc5998\",\"type\":\"Toolbar\"},{\"attributes\":{},\"id\":\"7cc807ad-a324-4b9c-8e1c-b56250cddfc6\",\"type\":\"PanTool\"},{\"attributes\":{\"below\":[{\"id\":\"009b33b6-39b8-43f9-a40b-1ed1f572edea\",\"type\":\"LinearAxis\"}],\"left\":[{\"id\":\"be235dc2-d3ac-4067-81d9-e9be0d7b84f1\",\"type\":\"LinearAxis\"}],\"plot_height\":300,\"plot_width\":300,\"renderers\":[{\"id\":\"009b33b6-39b8-43f9-a40b-1ed1f572edea\",\"type\":\"LinearAxis\"},{\"id\":\"29c303cb-c561-4e91-9ff7-35aff158c292\",\"type\":\"Grid\"},{\"id\":\"be235dc2-d3ac-4067-81d9-e9be0d7b84f1\",\"type\":\"LinearAxis\"},{\"id\":\"c2712c1a-3fad-4f5c-8ee9-3e12aa3fee9c\",\"type\":\"Grid\"},{\"id\":\"8efb0c03-6be4-4590-a6dc-93e3b41af998\",\"type\":\"BoxAnnotation\"},{\"id\":\"a2afa46f-fff4-49bf-8c7d-65c71745a7ed\",\"type\":\"PolyAnnotation\"},{\"id\":\"3c91ada2-758e-4c63-b879-ee023492620e\",\"type\":\"GlyphRenderer\"}],\"title\":{\"id\":\"b51f0dc7-3259-4536-9e6e-1b7301f8d438\",\"type\":\"Title\"},\"toolbar\":{\"id\":\"b1685700-6de4-4cfb-83f8-98758cab843d\",\"type\":\"Toolbar\"},\"toolbar_location\":null,\"x_range\":{\"id\":\"57ac2f2a-9c98-4ce0-a212-b218927d31cc\",\"type\":\"DataRange1d\"},\"x_scale\":{\"id\":\"cfd9407a-179c-4974-8799-b0463d61f4bd\",\"type\":\"LinearScale\"},\"y_range\":{\"id\":\"8cae89cf-56de-493e-bc1d-54d9e4205c5a\",\"type\":\"DataRange1d\"},\"y_scale\":{\"id\":\"abe22b71-4b77-460f-9a2b-cc0de87f0048\",\"type\":\"LinearScale\"}},\"id\":\"533267e5-1db3-4e3c-acf2-0a5847e79da1\",\"subtype\":\"Figure\",\"type\":\"Plot\"},{\"attributes\":{},\"id\":\"da382501-ff48-461c-8b0e-58a6acfb9736\",\"type\":\"HelpTool\"},{\"attributes\":{},\"id\":\"3ccffabd-d255-465c-aecb-6ed0e7a649df\",\"type\":\"LinearScale\"},{\"attributes\":{\"bottom_units\":\"screen\",\"fill_alpha\":{\"value\":0.5},\"fill_color\":{\"value\":\"lightgrey\"},\"left_units\":\"screen\",\"level\":\"overlay\",\"line_alpha\":{\"value\":1.0},\"line_color\":{\"value\":\"black\"},\"line_dash\":[4,4],\"line_width\":{\"value\":2},\"plot\":null,\"render_mode\":\"css\",\"right_units\":\"screen\",\"top_units\":\"screen\"},\"id\":\"8efb0c03-6be4-4590-a6dc-93e3b41af998\",\"type\":\"BoxAnnotation\"},{\"attributes\":{\"callback\":null},\"id\":\"aceea5b0-ebbe-428d-958c-989f905ed4d5\",\"type\":\"DataRange1d\"},{\"attributes\":{\"fill_alpha\":{\"value\":0.1},\"fill_color\":{\"value\":\"#1f77b4\"},\"line_alpha\":{\"value\":0.1},\"line_color\":{\"value\":\"#1f77b4\"},\"x\":{\"field\":\"x3\"},\"y\":{\"field\":\"y3\"}},\"id\":\"72da9999-aca2-4f3d-8bef-d608c59aea77\",\"type\":\"Circle\"},{\"attributes\":{},\"id\":\"69dca9f4-74e3-45e5-a341-a3ab7f8d8199\",\"type\":\"LinearScale\"},{\"attributes\":{\"source\":{\"id\":\"6c85eb9b-ccfe-4ecc-a979-3b4bb25ba2a8\",\"type\":\"ColumnDataSource\"}},\"id\":\"84c65bfe-794c-4163-9077-6d32d0c24fd8\",\"type\":\"CDSView\"},{\"attributes\":{\"plot\":{\"id\":\"1f7cb5e0-4019-48d3-b952-0f0517a7db8b\",\"subtype\":\"Figure\",\"type\":\"Plot\"},\"ticker\":{\"id\":\"a0745c58-5d45-4820-888b-5e9796b97dd9\",\"type\":\"BasicTicker\"}},\"id\":\"07ebee76-ae94-43af-8a7c-3c51f7b3b2b3\",\"type\":\"Grid\"},{\"attributes\":{\"axis_label\":\"Actual Value\",\"formatter\":{\"id\":\"91339fb2-e2ae-4f3e-b16d-a8ce182aaa05\",\"type\":\"BasicTickFormatter\"},\"plot\":{\"id\":\"1f7cb5e0-4019-48d3-b952-0f0517a7db8b\",\"subtype\":\"Figure\",\"type\":\"Plot\"},\"ticker\":{\"id\":\"a0745c58-5d45-4820-888b-5e9796b97dd9\",\"type\":\"BasicTicker\"}},\"id\":\"05f8f305-02c7-43cf-b8b6-f7c96299e9b4\",\"type\":\"LinearAxis\"},{\"attributes\":{},\"id\":\"9e2bc503-112d-44cc-b755-e93a3f772e49\",\"type\":\"LinearScale\"},{\"attributes\":{},\"id\":\"a0745c58-5d45-4820-888b-5e9796b97dd9\",\"type\":\"BasicTicker\"},{\"attributes\":{},\"id\":\"73a04389-340d-40d1-b07b-6292d5f248a1\",\"type\":\"BasicTickFormatter\"},{\"attributes\":{\"axis_label\":\"Imputed Value\",\"formatter\":{\"id\":\"5cc76fc5-c79b-4d0a-90fb-bf165bb7ed2e\",\"type\":\"BasicTickFormatter\"},\"plot\":{\"id\":\"1f7cb5e0-4019-48d3-b952-0f0517a7db8b\",\"subtype\":\"Figure\",\"type\":\"Plot\"},\"ticker\":{\"id\":\"53e83a87-88b0-42a5-8a14-529c50c03bce\",\"type\":\"BasicTicker\"}},\"id\":\"6db1d903-3339-4724-9c19-23128d079166\",\"type\":\"LinearAxis\"},{\"attributes\":{},\"id\":\"6e8833cc-c21e-448c-8025-13fccfed88d8\",\"type\":\"LinearScale\"},{\"attributes\":{\"data_source\":{\"id\":\"6c85eb9b-ccfe-4ecc-a979-3b4bb25ba2a8\",\"type\":\"ColumnDataSource\"},\"glyph\":{\"id\":\"1ec87f62-3545-4e5f-9927-994d2e53d5ed\",\"type\":\"Circle\"},\"hover_glyph\":null,\"muted_glyph\":null,\"nonselection_glyph\":{\"id\":\"72da9999-aca2-4f3d-8bef-d608c59aea77\",\"type\":\"Circle\"},\"selection_glyph\":null,\"view\":{\"id\":\"84c65bfe-794c-4163-9077-6d32d0c24fd8\",\"type\":\"CDSView\"}},\"id\":\"3c91ada2-758e-4c63-b879-ee023492620e\",\"type\":\"GlyphRenderer\"},{\"attributes\":{},\"id\":\"53e83a87-88b0-42a5-8a14-529c50c03bce\",\"type\":\"BasicTicker\"},{\"attributes\":{\"dimension\":1,\"plot\":{\"id\":\"1f7cb5e0-4019-48d3-b952-0f0517a7db8b\",\"subtype\":\"Figure\",\"type\":\"Plot\"},\"ticker\":{\"id\":\"53e83a87-88b0-42a5-8a14-529c50c03bce\",\"type\":\"BasicTicker\"}},\"id\":\"ff5503e0-5652-402a-a691-088564287d8b\",\"type\":\"Grid\"},{\"attributes\":{\"active_drag\":\"auto\",\"active_inspect\":\"auto\",\"active_scroll\":\"auto\",\"active_tap\":\"auto\",\"tools\":[{\"id\":\"8c9f01c0-ca2f-4099-957d-ad229f356fe8\",\"type\":\"BoxSelectTool\"},{\"id\":\"8b6bb124-726d-4a4b-938c-0a41e7d693cb\",\"type\":\"LassoSelectTool\"},{\"id\":\"aacc59c3-16c9-4a38-b089-69a3dbcedf65\",\"type\":\"PanTool\"},{\"id\":\"e3db3002-6b25-4415-875f-b5a2161ccc46\",\"type\":\"HelpTool\"}]},\"id\":\"7289d6d0-971d-4f9e-bd44-7654df4d39b4\",\"type\":\"Toolbar\"},{\"attributes\":{\"fill_color\":{\"value\":\"#1f77b4\"},\"line_color\":{\"value\":\"#1f77b4\"},\"x\":{\"field\":\"x1\"},\"y\":{\"field\":\"y1\"}},\"id\":\"584cd625-4e16-4a81-b46e-46f944d98734\",\"type\":\"Circle\"},{\"attributes\":{\"axis_label\":\"Imputed Value\",\"formatter\":{\"id\":\"4e937123-801d-4b3a-9176-3a9111729031\",\"type\":\"BasicTickFormatter\"},\"plot\":{\"id\":\"e4dfd87c-99c5-4a5b-875f-9cc971b0106e\",\"subtype\":\"Figure\",\"type\":\"Plot\"},\"ticker\":{\"id\":\"68ff01e4-8cde-45dc-a98e-3abfb370ceb0\",\"type\":\"BasicTicker\"}},\"id\":\"253e2d95-d8c9-463f-b8d0-7bdd0a122031\",\"type\":\"LinearAxis\"},{\"attributes\":{\"children\":[{\"id\":\"533267e5-1db3-4e3c-acf2-0a5847e79da1\",\"subtype\":\"Figure\",\"type\":\"Plot\"},{\"id\":\"e4dfd87c-99c5-4a5b-875f-9cc971b0106e\",\"subtype\":\"Figure\",\"type\":\"Plot\"}]},\"id\":\"ed3293e7-6d62-4caa-a19d-a8bab5308dad\",\"type\":\"Row\"},{\"attributes\":{},\"id\":\"9a12a20a-06b0-41f8-814b-8804215b78a6\",\"type\":\"BasicTicker\"},{\"attributes\":{\"callback\":null,\"overlay\":{\"id\":\"6c809c43-c967-4155-8516-2504ca414f57\",\"type\":\"BoxAnnotation\"},\"renderers\":[{\"id\":\"8a6264ec-d3a5-4322-8471-2ed214ffd091\",\"type\":\"GlyphRenderer\"}]},\"id\":\"defc030c-89fa-4335-a38d-279d9881500e\",\"type\":\"BoxSelectTool\"},{\"attributes\":{},\"id\":\"4e937123-801d-4b3a-9176-3a9111729031\",\"type\":\"BasicTickFormatter\"},{\"attributes\":{\"plot\":{\"id\":\"e4dfd87c-99c5-4a5b-875f-9cc971b0106e\",\"subtype\":\"Figure\",\"type\":\"Plot\"},\"ticker\":{\"id\":\"9a12a20a-06b0-41f8-814b-8804215b78a6\",\"type\":\"BasicTicker\"}},\"id\":\"771a866e-3dd0-4e01-a489-72847d5cbe1a\",\"type\":\"Grid\"},{\"attributes\":{},\"id\":\"05eddcc4-5ca2-4280-b6fd-f1d261965488\",\"type\":\"BasicTicker\"},{\"attributes\":{\"callback\":null,\"overlay\":{\"id\":\"1b7fef40-d973-446c-822c-da9407af97d6\",\"type\":\"PolyAnnotation\"}},\"id\":\"f0a756b1-a20b-4c12-8583-235bd90136e2\",\"type\":\"LassoSelectTool\"},{\"attributes\":{\"axis_label\":\"Actual Value\",\"formatter\":{\"id\":\"942d7d1f-531a-4529-8130-3988d53ef13c\",\"type\":\"BasicTickFormatter\"},\"plot\":{\"id\":\"e4dfd87c-99c5-4a5b-875f-9cc971b0106e\",\"subtype\":\"Figure\",\"type\":\"Plot\"},\"ticker\":{\"id\":\"9a12a20a-06b0-41f8-814b-8804215b78a6\",\"type\":\"BasicTicker\"}},\"id\":\"fa447279-2946-42e6-a809-62eb234c6b97\",\"type\":\"LinearAxis\"},{\"attributes\":{},\"id\":\"0e52a6b2-810d-4396-87f8-8d6fb97b1bfe\",\"type\":\"PanTool\"},{\"attributes\":{},\"id\":\"68ff01e4-8cde-45dc-a98e-3abfb370ceb0\",\"type\":\"BasicTicker\"},{\"attributes\":{},\"id\":\"a622bc8c-2500-466b-8fc9-54b4be964436\",\"type\":\"HelpTool\"},{\"attributes\":{\"dimension\":1,\"plot\":{\"id\":\"e4dfd87c-99c5-4a5b-875f-9cc971b0106e\",\"subtype\":\"Figure\",\"type\":\"Plot\"},\"ticker\":{\"id\":\"68ff01e4-8cde-45dc-a98e-3abfb370ceb0\",\"type\":\"BasicTicker\"}},\"id\":\"09166843-d5d7-4280-a342-73115cf53320\",\"type\":\"Grid\"},{\"attributes\":{\"children\":[{\"id\":\"1f7cb5e0-4019-48d3-b952-0f0517a7db8b\",\"subtype\":\"Figure\",\"type\":\"Plot\"},{\"id\":\"26254b52-1af5-41f4-8226-8b06eaf03c65\",\"subtype\":\"Figure\",\"type\":\"Plot\"}]},\"id\":\"08bb1a34-fbfe-4b57-b842-ef2a197501a7\",\"type\":\"Row\"},{\"attributes\":{\"bottom_units\":\"screen\",\"fill_alpha\":{\"value\":0.5},\"fill_color\":{\"value\":\"lightgrey\"},\"left_units\":\"screen\",\"level\":\"overlay\",\"line_alpha\":{\"value\":1.0},\"line_color\":{\"value\":\"black\"},\"line_dash\":[4,4],\"line_width\":{\"value\":2},\"plot\":null,\"render_mode\":\"css\",\"right_units\":\"screen\",\"top_units\":\"screen\"},\"id\":\"6c809c43-c967-4155-8516-2504ca414f57\",\"type\":\"BoxAnnotation\"},{\"attributes\":{\"fill_alpha\":{\"value\":0.5},\"fill_color\":{\"value\":\"lightgrey\"},\"level\":\"overlay\",\"line_alpha\":{\"value\":1.0},\"line_color\":{\"value\":\"black\"},\"line_dash\":[4,4],\"line_width\":{\"value\":2},\"plot\":null,\"xs_units\":\"screen\",\"ys_units\":\"screen\"},\"id\":\"8d6844aa-f938-4408-8892-92b3e1568c0a\",\"type\":\"PolyAnnotation\"},{\"attributes\":{\"fill_alpha\":{\"value\":0.1},\"fill_color\":{\"value\":\"#1f77b4\"},\"line_alpha\":{\"value\":0.1},\"line_color\":{\"value\":\"#1f77b4\"},\"x\":{\"field\":\"x1\"},\"y\":{\"field\":\"y1\"}},\"id\":\"ebd9f141-5cc8-434e-b46c-6c956263204f\",\"type\":\"Circle\"},{\"attributes\":{\"callback\":null,\"overlay\":{\"id\":\"cd930d43-7079-4c75-b4f9-2fddcfa4f411\",\"type\":\"BoxAnnotation\"},\"renderers\":[{\"id\":\"bcaf156e-041e-4a63-95e4-5854a9d6aa27\",\"type\":\"GlyphRenderer\"}]},\"id\":\"8c9f01c0-ca2f-4099-957d-ad229f356fe8\",\"type\":\"BoxSelectTool\"},{\"attributes\":{\"source\":{\"id\":\"6c85eb9b-ccfe-4ecc-a979-3b4bb25ba2a8\",\"type\":\"ColumnDataSource\"}},\"id\":\"7dd3d43f-d272-488a-834c-826e32bc0e15\",\"type\":\"CDSView\"},{\"attributes\":{\"callback\":null,\"overlay\":{\"id\":\"8d6844aa-f938-4408-8892-92b3e1568c0a\",\"type\":\"PolyAnnotation\"}},\"id\":\"8b6bb124-726d-4a4b-938c-0a41e7d693cb\",\"type\":\"LassoSelectTool\"},{\"attributes\":{\"data_source\":{\"id\":\"6c85eb9b-ccfe-4ecc-a979-3b4bb25ba2a8\",\"type\":\"ColumnDataSource\"},\"glyph\":{\"id\":\"584cd625-4e16-4a81-b46e-46f944d98734\",\"type\":\"Circle\"},\"hover_glyph\":null,\"muted_glyph\":null,\"nonselection_glyph\":{\"id\":\"ebd9f141-5cc8-434e-b46c-6c956263204f\",\"type\":\"Circle\"},\"selection_glyph\":null,\"view\":{\"id\":\"7dd3d43f-d272-488a-834c-826e32bc0e15\",\"type\":\"CDSView\"}},\"id\":\"8a6264ec-d3a5-4322-8471-2ed214ffd091\",\"type\":\"GlyphRenderer\"},{\"attributes\":{},\"id\":\"aacc59c3-16c9-4a38-b089-69a3dbcedf65\",\"type\":\"PanTool\"},{\"attributes\":{},\"id\":\"37a152ca-8323-4294-9ed7-ce673200a109\",\"type\":\"LinearScale\"},{\"attributes\":{},\"id\":\"e3db3002-6b25-4415-875f-b5a2161ccc46\",\"type\":\"HelpTool\"},{\"attributes\":{\"fill_alpha\":{\"value\":0.5},\"fill_color\":{\"value\":\"lightgrey\"},\"level\":\"overlay\",\"line_alpha\":{\"value\":1.0},\"line_color\":{\"value\":\"black\"},\"line_dash\":[4,4],\"line_width\":{\"value\":2},\"plot\":null,\"xs_units\":\"screen\",\"ys_units\":\"screen\"},\"id\":\"1b7fef40-d973-446c-822c-da9407af97d6\",\"type\":\"PolyAnnotation\"},{\"attributes\":{\"bottom_units\":\"screen\",\"fill_alpha\":{\"value\":0.5},\"fill_color\":{\"value\":\"lightgrey\"},\"left_units\":\"screen\",\"level\":\"overlay\",\"line_alpha\":{\"value\":1.0},\"line_color\":{\"value\":\"black\"},\"line_dash\":[4,4],\"line_width\":{\"value\":2},\"plot\":null,\"render_mode\":\"css\",\"right_units\":\"screen\",\"top_units\":\"screen\"},\"id\":\"cd930d43-7079-4c75-b4f9-2fddcfa4f411\",\"type\":\"BoxAnnotation\"},{\"attributes\":{\"callback\":null,\"column_names\":[\"x1\",\"y1\",\"x2\",\"y2\",\"x3\",\"y3\",\"x4\",\"y4\"],\"data\":{\"x1\":[3,6536,6036,761,1153,523],\"x2\":[3,6536,6036,761,1153,523],\"x3\":[3,6536,6036,761,1153,523],\"x4\":[3,6536,6036,761,1153,523],\"y1\":{\"__ndarray__\":\"rI+Hvqckv0Csj4e+pyS/QBIR/kW4o7ZAAUwZOHCXpkBKRs7C3taXQAFMGThwl6ZA\",\"dtype\":\"float64\",\"shape\":[6]},\"y2\":{\"__ndarray__\":\"AAAAAADjv0AAAAAAoFjTQAAAAABg2tBAAAAAAACclEAAAAAAADaRQAAAAAAAqHdA\",\"dtype\":\"float64\",\"shape\":[6]},\"y3\":{\"__ndarray__\":\"h2zF+b5xokBwWXqA6A+7QFG7Vx2ee7dAykny2mQBkkCAAgjutiFyQBbo80Z4WpdA\",\"dtype\":\"float64\",\"shape\":[6]},\"y4\":[9794,19816,4888,70,1824,41]}},\"id\":\"6c85eb9b-ccfe-4ecc-a979-3b4bb25ba2a8\",\"type\":\"ColumnDataSource\"},{\"attributes\":{\"axis_label\":\"Actual Value\",\"formatter\":{\"id\":\"873dfb94-d6ad-4b00-a9b2-2de31bef3435\",\"type\":\"BasicTickFormatter\"},\"plot\":{\"id\":\"26254b52-1af5-41f4-8226-8b06eaf03c65\",\"subtype\":\"Figure\",\"type\":\"Plot\"},\"ticker\":{\"id\":\"05eddcc4-5ca2-4280-b6fd-f1d261965488\",\"type\":\"BasicTicker\"}},\"id\":\"63325078-8fdd-4137-a3bb-68b26006b9d1\",\"type\":\"LinearAxis\"},{\"attributes\":{\"fill_alpha\":{\"value\":0.1},\"fill_color\":{\"value\":\"#1f77b4\"},\"line_alpha\":{\"value\":0.1},\"line_color\":{\"value\":\"#1f77b4\"},\"x\":{\"field\":\"x4\"},\"y\":{\"field\":\"y4\"}},\"id\":\"ab476e18-5542-4318-8a66-1e8a35386b91\",\"type\":\"Circle\"},{\"attributes\":{},\"id\":\"91339fb2-e2ae-4f3e-b16d-a8ce182aaa05\",\"type\":\"BasicTickFormatter\"},{\"attributes\":{\"source\":{\"id\":\"6c85eb9b-ccfe-4ecc-a979-3b4bb25ba2a8\",\"type\":\"ColumnDataSource\"}},\"id\":\"4f10c0bc-5cb9-41a3-a338-0799ee2a3695\",\"type\":\"CDSView\"},{\"attributes\":{\"sizing_mode\":\"scale_width\",\"toolbar_location\":\"above\",\"tools\":[{\"id\":\"defc030c-89fa-4335-a38d-279d9881500e\",\"type\":\"BoxSelectTool\"},{\"id\":\"f0a756b1-a20b-4c12-8583-235bd90136e2\",\"type\":\"LassoSelectTool\"},{\"id\":\"0e52a6b2-810d-4396-87f8-8d6fb97b1bfe\",\"type\":\"PanTool\"},{\"id\":\"a622bc8c-2500-466b-8fc9-54b4be964436\",\"type\":\"HelpTool\"},{\"id\":\"c45a7471-0a01-4b6d-aed8-496fe74c84f8\",\"type\":\"BoxSelectTool\"},{\"id\":\"4e4720a2-9fc7-46ff-9a98-f4acac90146f\",\"type\":\"LassoSelectTool\"},{\"id\":\"4dbb2ec3-f1cc-4970-be27-a9c21a4c4a45\",\"type\":\"PanTool\"},{\"id\":\"de7d9983-96dd-4d2c-9290-2ef2c00b2f28\",\"type\":\"HelpTool\"},{\"id\":\"535ade53-8567-4d11-b281-eb973f3919da\",\"type\":\"BoxSelectTool\"},{\"id\":\"102d7fd4-d720-431e-a0bf-8b2007e82aef\",\"type\":\"LassoSelectTool\"},{\"id\":\"7cc807ad-a324-4b9c-8e1c-b56250cddfc6\",\"type\":\"PanTool\"},{\"id\":\"da382501-ff48-461c-8b0e-58a6acfb9736\",\"type\":\"HelpTool\"},{\"id\":\"8c9f01c0-ca2f-4099-957d-ad229f356fe8\",\"type\":\"BoxSelectTool\"},{\"id\":\"8b6bb124-726d-4a4b-938c-0a41e7d693cb\",\"type\":\"LassoSelectTool\"},{\"id\":\"aacc59c3-16c9-4a38-b089-69a3dbcedf65\",\"type\":\"PanTool\"},{\"id\":\"e3db3002-6b25-4415-875f-b5a2161ccc46\",\"type\":\"HelpTool\"}]},\"id\":\"2de51245-4eda-41bc-b5d3-5da7ba33bb99\",\"type\":\"ToolbarBox\"},{\"attributes\":{\"active_drag\":\"auto\",\"active_inspect\":\"auto\",\"active_scroll\":\"auto\",\"active_tap\":\"auto\",\"tools\":[{\"id\":\"c45a7471-0a01-4b6d-aed8-496fe74c84f8\",\"type\":\"BoxSelectTool\"},{\"id\":\"4e4720a2-9fc7-46ff-9a98-f4acac90146f\",\"type\":\"LassoSelectTool\"},{\"id\":\"4dbb2ec3-f1cc-4970-be27-a9c21a4c4a45\",\"type\":\"PanTool\"},{\"id\":\"de7d9983-96dd-4d2c-9290-2ef2c00b2f28\",\"type\":\"HelpTool\"}]},\"id\":\"0ddbdcf3-593b-46ae-a553-0544c31f6dc2\",\"type\":\"Toolbar\"},{\"attributes\":{\"callback\":null},\"id\":\"87b41ef8-58a9-4fb0-b8eb-23a00935bf35\",\"type\":\"DataRange1d\"},{\"attributes\":{},\"id\":\"942d7d1f-531a-4529-8130-3988d53ef13c\",\"type\":\"BasicTickFormatter\"},{\"attributes\":{},\"id\":\"8a7e1ebb-372a-46a4-b65c-63ec50ddb424\",\"type\":\"LinearScale\"},{\"attributes\":{\"data_source\":{\"id\":\"6c85eb9b-ccfe-4ecc-a979-3b4bb25ba2a8\",\"type\":\"ColumnDataSource\"},\"glyph\":{\"id\":\"10aa09af-f59a-4f64-9bd8-5474edcaa5fb\",\"type\":\"Circle\"},\"hover_glyph\":null,\"muted_glyph\":null,\"nonselection_glyph\":{\"id\":\"ab476e18-5542-4318-8a66-1e8a35386b91\",\"type\":\"Circle\"},\"selection_glyph\":null,\"view\":{\"id\":\"4f10c0bc-5cb9-41a3-a338-0799ee2a3695\",\"type\":\"CDSView\"}},\"id\":\"bcaf156e-041e-4a63-95e4-5854a9d6aa27\",\"type\":\"GlyphRenderer\"},{\"attributes\":{\"plot\":null,\"text\":\"Linear Interpolation\"},\"id\":\"2c9e3d8d-88fa-42cd-869b-ad5f9c4e6c85\",\"type\":\"Title\"},{\"attributes\":{},\"id\":\"b26f7c79-4507-4443-9e11-f221cea10286\",\"type\":\"BasicTickFormatter\"},{\"attributes\":{\"callback\":null},\"id\":\"957bf3e2-d1c3-4731-a5f1-c0ea3bcd13f0\",\"type\":\"DataRange1d\"},{\"attributes\":{\"axis_label\":\"Imputed Value\",\"formatter\":{\"id\":\"b26f7c79-4507-4443-9e11-f221cea10286\",\"type\":\"BasicTickFormatter\"},\"plot\":{\"id\":\"26254b52-1af5-41f4-8226-8b06eaf03c65\",\"subtype\":\"Figure\",\"type\":\"Plot\"},\"ticker\":{\"id\":\"6af387f3-7659-4ec7-b7fd-d867f9179fd8\",\"type\":\"BasicTicker\"}},\"id\":\"c2f8fdae-b5f6-4c88-ad94-a61a5a505b27\",\"type\":\"LinearAxis\"},{\"attributes\":{\"below\":[{\"id\":\"fa447279-2946-42e6-a809-62eb234c6b97\",\"type\":\"LinearAxis\"}],\"left\":[{\"id\":\"253e2d95-d8c9-463f-b8d0-7bdd0a122031\",\"type\":\"LinearAxis\"}],\"plot_height\":300,\"plot_width\":300,\"renderers\":[{\"id\":\"fa447279-2946-42e6-a809-62eb234c6b97\",\"type\":\"LinearAxis\"},{\"id\":\"771a866e-3dd0-4e01-a489-72847d5cbe1a\",\"type\":\"Grid\"},{\"id\":\"253e2d95-d8c9-463f-b8d0-7bdd0a122031\",\"type\":\"LinearAxis\"},{\"id\":\"09166843-d5d7-4280-a342-73115cf53320\",\"type\":\"Grid\"},{\"id\":\"cd930d43-7079-4c75-b4f9-2fddcfa4f411\",\"type\":\"BoxAnnotation\"},{\"id\":\"8d6844aa-f938-4408-8892-92b3e1568c0a\",\"type\":\"PolyAnnotation\"},{\"id\":\"bcaf156e-041e-4a63-95e4-5854a9d6aa27\",\"type\":\"GlyphRenderer\"}],\"title\":{\"id\":\"22f46844-0739-4f56-84d3-84a850068bec\",\"type\":\"Title\"},\"toolbar\":{\"id\":\"7289d6d0-971d-4f9e-bd44-7654df4d39b4\",\"type\":\"Toolbar\"},\"toolbar_location\":null,\"x_range\":{\"id\":\"631c1085-bc92-47b7-bc94-150c27596d8e\",\"type\":\"DataRange1d\"},\"x_scale\":{\"id\":\"9e2bc503-112d-44cc-b755-e93a3f772e49\",\"type\":\"LinearScale\"},\"y_range\":{\"id\":\"5c189c05-3930-404e-8b27-e5174f610fe3\",\"type\":\"DataRange1d\"},\"y_scale\":{\"id\":\"6e8833cc-c21e-448c-8025-13fccfed88d8\",\"type\":\"LinearScale\"}},\"id\":\"e4dfd87c-99c5-4a5b-875f-9cc971b0106e\",\"subtype\":\"Figure\",\"type\":\"Plot\"},{\"attributes\":{},\"id\":\"6af387f3-7659-4ec7-b7fd-d867f9179fd8\",\"type\":\"BasicTicker\"},{\"attributes\":{\"dimension\":1,\"plot\":{\"id\":\"26254b52-1af5-41f4-8226-8b06eaf03c65\",\"subtype\":\"Figure\",\"type\":\"Plot\"},\"ticker\":{\"id\":\"6af387f3-7659-4ec7-b7fd-d867f9179fd8\",\"type\":\"BasicTicker\"}},\"id\":\"8c348414-2afb-4ed5-964c-0260dd474b63\",\"type\":\"Grid\"},{\"attributes\":{\"fill_color\":{\"value\":\"#1f77b4\"},\"line_color\":{\"value\":\"#1f77b4\"},\"x\":{\"field\":\"x2\"},\"y\":{\"field\":\"y2\"}},\"id\":\"d5026b74-5e4d-4f68-bf23-73a6f8bf2fa6\",\"type\":\"Circle\"},{\"attributes\":{\"fill_alpha\":{\"value\":0.5},\"fill_color\":{\"value\":\"lightgrey\"},\"level\":\"overlay\",\"line_alpha\":{\"value\":1.0},\"line_color\":{\"value\":\"black\"},\"line_dash\":[4,4],\"line_width\":{\"value\":2},\"plot\":null,\"xs_units\":\"screen\",\"ys_units\":\"screen\"},\"id\":\"cf87f5bb-19e0-4da4-8fc8-5b7b5146d4e4\",\"type\":\"PolyAnnotation\"},{\"attributes\":{\"callback\":null,\"overlay\":{\"id\":\"a2cc6fcf-0a3d-4ac7-9558-b28bb1b296fe\",\"type\":\"BoxAnnotation\"},\"renderers\":[{\"id\":\"11ac5a96-260f-4fcd-afbc-5a9b9fad038c\",\"type\":\"GlyphRenderer\"}]},\"id\":\"c45a7471-0a01-4b6d-aed8-496fe74c84f8\",\"type\":\"BoxSelectTool\"},{\"attributes\":{\"plot\":null,\"text\":\"Fill Forward\"},\"id\":\"22f46844-0739-4f56-84d3-84a850068bec\",\"type\":\"Title\"},{\"attributes\":{\"callback\":null,\"overlay\":{\"id\":\"cf87f5bb-19e0-4da4-8fc8-5b7b5146d4e4\",\"type\":\"PolyAnnotation\"}},\"id\":\"4e4720a2-9fc7-46ff-9a98-f4acac90146f\",\"type\":\"LassoSelectTool\"},{\"attributes\":{},\"id\":\"4dbb2ec3-f1cc-4970-be27-a9c21a4c4a45\",\"type\":\"PanTool\"},{\"attributes\":{},\"id\":\"de7d9983-96dd-4d2c-9290-2ef2c00b2f28\",\"type\":\"HelpTool\"},{\"attributes\":{\"bottom_units\":\"screen\",\"fill_alpha\":{\"value\":0.5},\"fill_color\":{\"value\":\"lightgrey\"},\"left_units\":\"screen\",\"level\":\"overlay\",\"line_alpha\":{\"value\":1.0},\"line_color\":{\"value\":\"black\"},\"line_dash\":[4,4],\"line_width\":{\"value\":2},\"plot\":null,\"render_mode\":\"css\",\"right_units\":\"screen\",\"top_units\":\"screen\"},\"id\":\"a2cc6fcf-0a3d-4ac7-9558-b28bb1b296fe\",\"type\":\"BoxAnnotation\"},{\"attributes\":{\"fill_alpha\":{\"value\":0.1},\"fill_color\":{\"value\":\"#1f77b4\"},\"line_alpha\":{\"value\":0.1},\"line_color\":{\"value\":\"#1f77b4\"},\"x\":{\"field\":\"x2\"},\"y\":{\"field\":\"y2\"}},\"id\":\"dcd1ed49-6385-4c93-8622-85b9163aba4a\",\"type\":\"Circle\"},{\"attributes\":{\"source\":{\"id\":\"6c85eb9b-ccfe-4ecc-a979-3b4bb25ba2a8\",\"type\":\"ColumnDataSource\"}},\"id\":\"40228380-2054-4958-a100-742e3e286dd0\",\"type\":\"CDSView\"},{\"attributes\":{\"fill_color\":{\"value\":\"#1f77b4\"},\"line_color\":{\"value\":\"#1f77b4\"},\"x\":{\"field\":\"x4\"},\"y\":{\"field\":\"y4\"}},\"id\":\"10aa09af-f59a-4f64-9bd8-5474edcaa5fb\",\"type\":\"Circle\"},{\"attributes\":{},\"id\":\"873dfb94-d6ad-4b00-a9b2-2de31bef3435\",\"type\":\"BasicTickFormatter\"},{\"attributes\":{\"children\":[{\"id\":\"2de51245-4eda-41bc-b5d3-5da7ba33bb99\",\"type\":\"ToolbarBox\"},{\"id\":\"672e2b2b-54a9-4439-a626-a07fcb1658e1\",\"type\":\"Column\"}]},\"id\":\"7039e090-840a-4c9e-a9e3-5edad89ab68b\",\"type\":\"Column\"},{\"attributes\":{\"data_source\":{\"id\":\"6c85eb9b-ccfe-4ecc-a979-3b4bb25ba2a8\",\"type\":\"ColumnDataSource\"},\"glyph\":{\"id\":\"d5026b74-5e4d-4f68-bf23-73a6f8bf2fa6\",\"type\":\"Circle\"},\"hover_glyph\":null,\"muted_glyph\":null,\"nonselection_glyph\":{\"id\":\"dcd1ed49-6385-4c93-8622-85b9163aba4a\",\"type\":\"Circle\"},\"selection_glyph\":null,\"view\":{\"id\":\"40228380-2054-4958-a100-742e3e286dd0\",\"type\":\"CDSView\"}},\"id\":\"11ac5a96-260f-4fcd-afbc-5a9b9fad038c\",\"type\":\"GlyphRenderer\"},{\"attributes\":{\"children\":[{\"id\":\"08bb1a34-fbfe-4b57-b842-ef2a197501a7\",\"type\":\"Row\"},{\"id\":\"ed3293e7-6d62-4caa-a19d-a8bab5308dad\",\"type\":\"Row\"}]},\"id\":\"672e2b2b-54a9-4439-a626-a07fcb1658e1\",\"type\":\"Column\"},{\"attributes\":{\"active_drag\":\"auto\",\"active_inspect\":\"auto\",\"active_scroll\":\"auto\",\"active_tap\":\"auto\",\"tools\":[{\"id\":\"535ade53-8567-4d11-b281-eb973f3919da\",\"type\":\"BoxSelectTool\"},{\"id\":\"102d7fd4-d720-431e-a0bf-8b2007e82aef\",\"type\":\"LassoSelectTool\"},{\"id\":\"7cc807ad-a324-4b9c-8e1c-b56250cddfc6\",\"type\":\"PanTool\"},{\"id\":\"da382501-ff48-461c-8b0e-58a6acfb9736\",\"type\":\"HelpTool\"}]},\"id\":\"b1685700-6de4-4cfb-83f8-98758cab843d\",\"type\":\"Toolbar\"},{\"attributes\":{\"callback\":null},\"id\":\"8cae89cf-56de-493e-bc1d-54d9e4205c5a\",\"type\":\"DataRange1d\"},{\"attributes\":{\"plot\":null,\"text\":\"Linear Regression\"},\"id\":\"b51f0dc7-3259-4536-9e6e-1b7301f8d438\",\"type\":\"Title\"},{\"attributes\":{\"fill_color\":{\"value\":\"#1f77b4\"},\"line_color\":{\"value\":\"#1f77b4\"},\"x\":{\"field\":\"x3\"},\"y\":{\"field\":\"y3\"}},\"id\":\"1ec87f62-3545-4e5f-9927-994d2e53d5ed\",\"type\":\"Circle\"},{\"attributes\":{\"callback\":null},\"id\":\"57ac2f2a-9c98-4ce0-a212-b218927d31cc\",\"type\":\"DataRange1d\"},{\"attributes\":{},\"id\":\"cfd9407a-179c-4974-8799-b0463d61f4bd\",\"type\":\"LinearScale\"},{\"attributes\":{},\"id\":\"2af5b378-d726-4cde-9372-2acbdeb41d6d\",\"type\":\"BasicTicker\"},{\"attributes\":{},\"id\":\"abe22b71-4b77-460f-9a2b-cc0de87f0048\",\"type\":\"LinearScale\"},{\"attributes\":{\"plot\":{\"id\":\"533267e5-1db3-4e3c-acf2-0a5847e79da1\",\"subtype\":\"Figure\",\"type\":\"Plot\"},\"ticker\":{\"id\":\"6d8d7ba4-08f4-4956-89e9-04b2ad279d34\",\"type\":\"BasicTicker\"}},\"id\":\"29c303cb-c561-4e91-9ff7-35aff158c292\",\"type\":\"Grid\"},{\"attributes\":{\"axis_label\":\"Actual Value\",\"formatter\":{\"id\":\"73a04389-340d-40d1-b07b-6292d5f248a1\",\"type\":\"BasicTickFormatter\"},\"plot\":{\"id\":\"533267e5-1db3-4e3c-acf2-0a5847e79da1\",\"subtype\":\"Figure\",\"type\":\"Plot\"},\"ticker\":{\"id\":\"6d8d7ba4-08f4-4956-89e9-04b2ad279d34\",\"type\":\"BasicTicker\"}},\"id\":\"009b33b6-39b8-43f9-a40b-1ed1f572edea\",\"type\":\"LinearAxis\"},{\"attributes\":{},\"id\":\"6d8d7ba4-08f4-4956-89e9-04b2ad279d34\",\"type\":\"BasicTicker\"},{\"attributes\":{\"axis_label\":\"Imputed Value\",\"formatter\":{\"id\":\"efd8cc42-7642-49b9-b5fe-f4fcc8ad59ef\",\"type\":\"BasicTickFormatter\"},\"plot\":{\"id\":\"533267e5-1db3-4e3c-acf2-0a5847e79da1\",\"subtype\":\"Figure\",\"type\":\"Plot\"},\"ticker\":{\"id\":\"2af5b378-d726-4cde-9372-2acbdeb41d6d\",\"type\":\"BasicTicker\"}},\"id\":\"be235dc2-d3ac-4067-81d9-e9be0d7b84f1\",\"type\":\"LinearAxis\"}],\"root_ids\":[\"7039e090-840a-4c9e-a9e3-5edad89ab68b\"]},\"title\":\"Bokeh Application\",\"version\":\"0.12.7\"}};\n",
       "            var render_items = [{\"docid\":\"c012cf32-40fb-446e-8280-b760bfd207e5\",\"elementid\":\"f691ef49-b4b0-46ce-975d-464062982e48\",\"modelid\":\"7039e090-840a-4c9e-a9e3-5edad89ab68b\"}];\n",
       "            \n",
       "            Bokeh.embed.embed_items(docs_json, render_items);\n",
       "          };\n",
       "          if (document.readyState != \"loading\") fn();\n",
       "          else document.addEventListener(\"DOMContentLoaded\", fn);\n",
       "        })();\n",
       "      },\n",
       "      function(Bokeh) {\n",
       "      }\n",
       "    ];\n",
       "  \n",
       "    function run_inline_js() {\n",
       "      \n",
       "      if ((root.Bokeh !== undefined) || (force === true)) {\n",
       "        for (var i = 0; i < inline_js.length; i++) {\n",
       "          inline_js[i].call(root, root.Bokeh);\n",
       "        }if (force === true) {\n",
       "          display_loaded();\n",
       "        }} else if (Date.now() < root._bokeh_timeout) {\n",
       "        setTimeout(run_inline_js, 100);\n",
       "      } else if (!root._bokeh_failed_load) {\n",
       "        console.log(\"Bokeh: BokehJS failed to load within specified timeout.\");\n",
       "        root._bokeh_failed_load = true;\n",
       "      } else if (force !== true) {\n",
       "        var cell = $(document.getElementById(\"f691ef49-b4b0-46ce-975d-464062982e48\")).parents('.cell').data().cell;\n",
       "        cell.output_area.append_execute_result(NB_LOAD_WARNING)\n",
       "      }\n",
       "  \n",
       "    }\n",
       "  \n",
       "    if (root._bokeh_is_loading === 0) {\n",
       "      console.log(\"Bokeh: BokehJS loaded, going straight to plotting\");\n",
       "      run_inline_js();\n",
       "    } else {\n",
       "      load_libs(js_urls, function() {\n",
       "        console.log(\"Bokeh: BokehJS plotting callback run at\", now());\n",
       "        run_inline_js();\n",
       "      });\n",
       "    }\n",
       "  }(window));\n",
       "</script>"
      ]
     },
     "metadata": {},
     "output_type": "display_data"
    }
   ],
   "source": [
    "TOOLS = \"box_select,lasso_select,pan,help\"\n",
    "\n",
    "mean = figure(tools=TOOLS, width=300, height=300, title=\"Mean\")\n",
    "mean.circle('x1', 'y1', source=source)\n",
    "mean.xaxis.axis_label = \"Actual Value\"\n",
    "mean.yaxis.axis_label = \"Imputed Value\"\n",
    "\n",
    "linear_interpolation = figure(tools=TOOLS, width=300, height=300, title=\"Linear Interpolation\")\n",
    "linear_interpolation.circle('x2', 'y2', source=source)\n",
    "linear_interpolation.xaxis.axis_label = \"Actual Value\"\n",
    "linear_interpolation.yaxis.axis_label = \"Imputed Value\"\n",
    "\n",
    "linear_regression = figure(tools=TOOLS, width=300, height=300, title=\"Linear Regression\")\n",
    "linear_regression.circle('x3', 'y3', source=source)\n",
    "linear_regression.xaxis.axis_label = \"Actual Value\"\n",
    "linear_regression.yaxis.axis_label = \"Imputed Value\"\n",
    "\n",
    "fill_forward = figure(tools=TOOLS, width=300, height=300, title=\"Fill Forward\")\n",
    "fill_forward.circle('x4', 'y4', source=source)\n",
    "fill_forward.xaxis.axis_label = \"Actual Value\"\n",
    "fill_forward.yaxis.axis_label = \"Imputed Value\"\n",
    "\n",
    "p = gridplot([[mean, linear_interpolation], [linear_regression, fill_forward]])\n",
    "\n",
    "show(p)"
   ]
  },
  {
   "cell_type": "code",
   "execution_count": null,
   "metadata": {
    "collapsed": true
   },
   "outputs": [],
   "source": []
  }
 ],
 "metadata": {
  "kernelspec": {
   "display_name": "Python 3",
   "language": "python",
   "name": "python3"
  },
  "language_info": {
   "codemirror_mode": {
    "name": "ipython",
    "version": 3
   },
   "file_extension": ".py",
   "mimetype": "text/x-python",
   "name": "python",
   "nbconvert_exporter": "python",
   "pygments_lexer": "ipython3",
   "version": "3.6.2"
  }
 },
 "nbformat": 4,
 "nbformat_minor": 2
}
